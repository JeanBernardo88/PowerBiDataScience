{
 "cells": [
  {
   "cell_type": "markdown",
   "metadata": {},
   "source": [
    "## Manipulação de Listas"
   ]
  },
  {
   "cell_type": "code",
   "execution_count": null,
   "metadata": {},
   "outputs": [],
   "source": [
    "import random\n",
    "#Executa a inserção de um elemento no inicio da lista gerada\n",
    "def ins_ini(a):\n",
    "    n=int(len(a)) # Atribui o comprimento da lista para a letra n\n",
    "    add=int(input('Qual numero que adicionar')) # solicita ao usuario o valor que ele quer adicionar no indice 0\n",
    "    print(a[0:(n-1)]) # exibe a lista \n",
    "    for i in range(1,n): # for para percorrer a lista\n",
    "        a[-i]=a[-i-1]\n",
    "    a[0]=add\n",
    "    return(a,'A')\n",
    "#Executa a inserção de um elemento no final da lista gerada\n",
    "def ins_fin(b):\n",
    "    n=int(len(b))\n",
    "    add=int(input('Qual numero que adicionar'))\n",
    "    print(b[1:n])\n",
    "    for i in range(n-1):\n",
    "        b[i]=b[i+1]\n",
    "    b[-1]=add\n",
    "    return(b,'B')\n",
    "#Remove elemento pelo indice    \n",
    "def rem_ind(c):\n",
    "    n=int(len(c))\n",
    "    rem=int(input('Qual indice quer remover'))\n",
    "    print(c)\n",
    "    for i in range(rem,(n-1)):\n",
    "        c[i]=c[i+1]\n",
    "    return(c[0:(n-1)],'C')\n",
    "    \n",
    "#remove elemento de acordo com valor selecionado   \n",
    "def rem_val(d):\n",
    "    n=int(len(d))\n",
    "    rem=int(input('Qual valor quer remover'))\n",
    "    print(d)\n",
    "    index=0\n",
    "    for i in range(n):\n",
    "        if rem==d[i]:\n",
    "            index=i\n",
    "    for i in range(index,(n-1)):\n",
    "        d[i]=d[i+1]\n",
    "    return(d[0:(n-1)],'D')\n",
    "\n",
    "\n",
    "#programa principal\n",
    "#geração de valores para lista\n",
    "qtad=int(input('Digite a quantidade de valores a serem gerados: '))\n",
    "a=int(input('Digite o menor valor do range de geração: '))\n",
    "b=int(input('Digite o maior valor do range da geração: '))\n",
    "lista=[]\n",
    "for i in range(qtad+1):\n",
    "    nr=random.randint(a,b)\n",
    "    lista.append(nr)\n",
    "\n",
    "#Opção para selecionar o tipo de operação que será feita\n",
    "a=input('Para inserir no inicio digite A, para inserir no final B, para remover por indice C, para remover por valor D')\n",
    "#lista=[2,3,4,5,6,7,8,9,10,11]\n",
    "\n",
    "\n",
    "if a=='A':\n",
    "    print(ins_ini(lista))\n",
    "\n",
    "elif a=='B':\n",
    "    print(ins_fin(lista))\n",
    "    \n",
    "elif a=='C':\n",
    "    \n",
    "    print(rem_ind(lista))\n",
    "    \n",
    "elif a=='D':\n",
    "    print(rem_val(lista))"
   ]
  }
 ],
 "metadata": {
  "kernelspec": {
   "display_name": "Python 3",
   "language": "python",
   "name": "python3"
  },
  "language_info": {
   "codemirror_mode": {
    "name": "ipython",
    "version": 3
   },
   "file_extension": ".py",
   "mimetype": "text/x-python",
   "name": "python",
   "nbconvert_exporter": "python",
   "pygments_lexer": "ipython3",
   "version": "3.7.3"
  }
 },
 "nbformat": 4,
 "nbformat_minor": 2
}
