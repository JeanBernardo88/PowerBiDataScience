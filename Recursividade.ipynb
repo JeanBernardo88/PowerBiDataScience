{
 "cells": [
  {
   "cell_type": "markdown",
   "metadata": {},
   "source": [
    "## Recursividade"
   ]
  },
  {
   "cell_type": "code",
   "execution_count": 1,
   "metadata": {},
   "outputs": [
    {
     "name": "stdout",
     "output_type": "stream",
     "text": [
      "120\n"
     ]
    }
   ],
   "source": [
    "def fatorial(n):\n",
    "    if n>1:\n",
    "        return n * fatorial(n-1) #ele chama a própria função dentro dela, pra fazer os cálculos dos números menores\n",
    "    return 1 #se não. se n = 0 ou = 1, o fatorial é == 1\n",
    "print(fatorial(5))\n"
   ]
  },
  {
   "cell_type": "code",
   "execution_count": 2,
   "metadata": {},
   "outputs": [
    {
     "name": "stdout",
     "output_type": "stream",
     "text": [
      "3\n"
     ]
    }
   ],
   "source": [
    "def fibo(n): #um número que diga a posição que quero da sequência\n",
    "    if n <= 1:\n",
    "        return n #não tem\n",
    "    else:\n",
    "        return fibo(n-2) + fibo(n-1) # vai ter duas recursivas, então elepassa  ater dois n e assim vai,\n",
    "                                     #dps volta e faz para um n e dps p/ outro, no fim soma\n",
    "print(fibo(4))\n",
    "    "
   ]
  },
  {
   "cell_type": "code",
   "execution_count": null,
   "metadata": {},
   "outputs": [],
   "source": []
  }
 ],
 "metadata": {
  "kernelspec": {
   "display_name": "Python 3",
   "language": "python",
   "name": "python3"
  },
  "language_info": {
   "codemirror_mode": {
    "name": "ipython",
    "version": 3
   },
   "file_extension": ".py",
   "mimetype": "text/x-python",
   "name": "python",
   "nbconvert_exporter": "python",
   "pygments_lexer": "ipython3",
   "version": "3.7.3"
  }
 },
 "nbformat": 4,
 "nbformat_minor": 4
}
