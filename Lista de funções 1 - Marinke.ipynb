{
 "cells": [
  {
   "cell_type": "markdown",
   "metadata": {},
   "source": [
    "## Lista Funções - Marinke "
   ]
  },
  {
   "cell_type": "markdown",
   "metadata": {},
   "source": [
    "### Ex - 1\n",
    " \n",
    "#### Faça uma função que recebe por parâmetro o raio de uma esfera e calcula o seu volume v = 4*PI*R3/ 3 . \n"
   ]
  },
  {
   "cell_type": "code",
   "execution_count": 3,
   "metadata": {},
   "outputs": [
    {
     "name": "stdout",
     "output_type": "stream",
     "text": [
      "Digite um valor para o raio da sua esfera: 5\n",
      " O volume é: 523.60\n"
     ]
    }
   ],
   "source": [
    "import math\n",
    "\n",
    "def volumeEsfera(pRaio):\n",
    "    volume = (4 * math.pi * math.pow(pRaio,3))/3\n",
    "    return volume\n",
    "\n",
    "raio = float(input('Digite um valor para o raio da sua esfera: '))\n",
    "print(\" O volume é: {:.2f}\".format(volumeEsfera(raio)))"
   ]
  },
  {
   "cell_type": "markdown",
   "metadata": {},
   "source": [
    "### Ex - 2\n",
    "\n",
    "#### Faça uma função que recebe, por parâmetro, a altura (alt) e o sexo de uma pessoa e retorna o seu peso ideal. \n",
    "#### Para homens, calcular o peso ideal usando a fórmula peso ideal= 72.7 x alt - 58 e, para mulheres, peso ideal = 62.1 x alt - 44.7. "
   ]
  },
  {
   "cell_type": "code",
   "execution_count": 7,
   "metadata": {},
   "outputs": [
    {
     "name": "stdout",
     "output_type": "stream",
     "text": [
      "Qual a altura? 1.56\n",
      "Qual seu sexo: F\n",
      "Seu peso ideal é 52.18\n"
     ]
    }
   ],
   "source": [
    "def pesoIdeal(alt, sexo):\n",
    "    if sexo == 'M':\n",
    "        ideal = 72.7 * alt - 58\n",
    "    else:\n",
    "        ideal = 62.1 * alt - 44.7\n",
    "    return ideal\n",
    "\n",
    "#código principal\n",
    "altura = float(input('Qual a altura? '))\n",
    "sexo = str(input('Qual seu sexo: ')) .strip()[0] .upper()\n",
    "\n",
    "print(\"Seu peso ideal é {:.2f}\".format(pesoIdeal(altura,sexo))) #CHAMA A FUNÇÃO NO PRINT"
   ]
  },
  {
   "cell_type": "markdown",
   "metadata": {},
   "source": [
    "### EX - 3\n",
    " #### Faça uma função que recebe por parâmetro o tempo de duração de uma fábrica expressa em segundos e retorna também por parâmetro esse tempo em horas, minutos e segundos. "
   ]
  },
  {
   "cell_type": "code",
   "execution_count": 8,
   "metadata": {},
   "outputs": [
    {
     "name": "stdout",
     "output_type": "stream",
     "text": [
      "Segundos: 14587\n",
      "Hora(s):4, Min(s):3 e segundos(s): 7\n"
     ]
    }
   ],
   "source": [
    "def duracao(segundos):\n",
    "    horas = int(segundos / 3600) #para deixar ele inteiro, 5/3600 pega a parte inteira só\n",
    "    resto = int(segundos % 3600) #já separei a parte inteira q é hr, e agr pego o resto da divisão p/ transformar em segundos\n",
    "    min = int(resto /60) #pega a parte inteira  da divisão doq sobrou p/ virar minutos\n",
    "    resto = int(resto % 60) #oq sobrou vai virar o novo resto, que serão os segundos\n",
    "    return ('Hora(s):' + str(horas) + ', Min(s):' + str(min) + ' e segundos(s): '+ str(resto))\n",
    "#concatena para mostrar um resultado bonito\n",
    "\n",
    "segundos = int(input('Segundos: '))\n",
    "print(duracao(segundos))"
   ]
  },
  {
   "cell_type": "markdown",
   "metadata": {},
   "source": [
    "### Ex - 4\n",
    "\n",
    "#### Escreva um função que recebe as 3 notas de um aluno por parâmetro e uma letra. Se a letra for A o função calcula a média aritmética das notas do aluno, se for P, a sua média ponderada (pesos: 5, 3 e 2) e se for H, a sua média harmônica. A média calculada também deve retornar por parâmetro. "
   ]
  },
  {
   "cell_type": "code",
   "execution_count": 10,
   "metadata": {},
   "outputs": [
    {
     "name": "stdout",
     "output_type": "stream",
     "text": [
      "Digite a primeira nota: 5.4\n",
      "Digite a segunda nota: 6.8\n",
      "Digite a terceira nota: 9.4\n",
      "Qual tipo de média deseja calcular:\n",
      "A = Aritmética\n",
      "P = Pondera\n",
      "H = HarmônicaP\n",
      "A média P é: 6.62\n"
     ]
    }
   ],
   "source": [
    "def media (n1, n2, n3, letra):\n",
    "    if letra == 'A':\n",
    "        media = (n1 + n2 + n3)/3\n",
    "    elif letra == 'P':\n",
    "        media = (n1 * 5 + n2 * 3 + n3 *2)/10\n",
    "    elif letra == 'H':\n",
    "        media = 3 / (1/n1 + 1/n2 + 1/n3)\n",
    "    return media\n",
    "\n",
    "n1 = float(input('Digite a primeira nota: '))\n",
    "n2 = float(input('Digite a segunda nota: '))\n",
    "n3 = float(input('Digite a terceira nota: '))\n",
    "c = str(input('''Qual tipo de média deseja calcular:\n",
    "A = Aritmética\n",
    "P = Pondera\n",
    "H = Harmônica''' )).upper()\n",
    "\n",
    "print('A média {} é: '.format(c), end='')\n",
    "print(media(n1, n2, n3, c))"
   ]
  },
  {
   "cell_type": "markdown",
   "metadata": {},
   "source": [
    "### Ex - 5\n",
    "\n",
    "#### Faça uma função que recebe por parâmetro um valor inteiro e positivo e retorna o valor lógico Verdadeiro caso o valor seja primo e Falso em caso contrário."
   ]
  },
  {
   "cell_type": "code",
   "execution_count": 12,
   "metadata": {},
   "outputs": [
    {
     "name": "stdout",
     "output_type": "stream",
     "text": [
      "Digite um número inteiro e positivo: 44\n",
      "O número NÃO é primo\n"
     ]
    }
   ],
   "source": [
    "def nPrimo(num):\n",
    "    count = 0\n",
    "    for c in range(1, num + 1):  # +1 pq o range é sempre 1 a menos\n",
    "        if num % c == 0:\n",
    "            count = count + 1\n",
    "    if count == 2:\n",
    "        resposta = 'O número é PRIMO'\n",
    "    else:\n",
    "        resposta = 'O número NÃO é primo'\n",
    "    return resposta\n",
    "\n",
    "\n",
    "numero = int(input('Digite um número inteiro e positivo: '))\n",
    "print(nPrimo(numero))\n"
   ]
  },
  {
   "cell_type": "markdown",
   "metadata": {},
   "source": [
    "### Ex - 6\n",
    "\n",
    "#### Faça uma função que recebe a idade de uma pessoa em anos, meses e dias e retorna essa idade expressa em dias. "
   ]
  },
  {
   "cell_type": "code",
   "execution_count": 13,
   "metadata": {},
   "outputs": [
    {
     "name": "stdout",
     "output_type": "stream",
     "text": [
      "Quantos anos vc tem: 5\n",
      "E quantos meses: 6\n",
      "E quantos dias: 24\n",
      "Você viveu: 2029 dias\n"
     ]
    }
   ],
   "source": [
    "def diasIdade(anos, meses, dias):\n",
    "    newAno = anos * 365\n",
    "    newMes = meses * 30\n",
    "    totDias = newAno + newMes + dias\n",
    "    return ('Você viveu: {} dias'.format(totDias))\n",
    "\n",
    "ano = int(input('Quantos anos vc tem: '))\n",
    "meses = int(input('E quantos meses: '))\n",
    "dias = int(input('E quantos dias: '))\n",
    "\n",
    "print(diasIdade(ano, meses, dias))"
   ]
  },
  {
   "cell_type": "markdown",
   "metadata": {},
   "source": [
    "### Ex - 7\n",
    "\n",
    "#### Faça um função que recebe a idade de um nadador por parâmetro e retorne a categoria desse nadador de acordo com a tabela abaixo: "
   ]
  },
  {
   "cell_type": "code",
   "execution_count": 15,
   "metadata": {},
   "outputs": [
    {
     "name": "stdout",
     "output_type": "stream",
     "text": [
      "Qual a idade do nadador? 6\n",
      "A categoria desse nadador é: infantil A\n"
     ]
    }
   ],
   "source": [
    "def categoria(idade):\n",
    "    if idade >= 5 and idade <= 7:\n",
    "        cat = 'infantil A'\n",
    "    elif idade >= 8 and idade <= 10:\n",
    "        cat = 'infantil B'\n",
    "    elif idade >= 11 and idade <= 13:\n",
    "        cat = 'juvenil A'\n",
    "    elif idade >= 14 and idade <= 17: \n",
    "        cat = 'juvenil B'\n",
    "    elif idade >= 18:\n",
    "        cat = 'adulta'\n",
    "    return cat \n",
    "\n",
    "idade = int(input('Qual a idade do nadador? '))\n",
    "print('A categoria desse nadador é: ', end='') # é para o print de baixo ie na frente desse \n",
    "print(categoria(idade))"
   ]
  },
  {
   "cell_type": "markdown",
   "metadata": {},
   "source": [
    "### Ex - 8\n",
    "\n",
    "#### Faça uma função que recebe um valor inteiro e verifica se o valor é positivo ou negativo. A função deve retornar um valor booleano. "
   ]
  },
  {
   "cell_type": "code",
   "execution_count": 17,
   "metadata": {},
   "outputs": [
    {
     "name": "stdout",
     "output_type": "stream",
     "text": [
      "Digite um valor inteiro: 6\n",
      "O valor é positivo:  True\n"
     ]
    }
   ],
   "source": [
    "def valor(vaInt):\n",
    "    if vaInt < 0:\n",
    "        return False\n",
    "    else:\n",
    "        return True\n",
    "\n",
    "num = int(input('Digite um valor inteiro: '))\n",
    "print('O valor é positivo: ',valor(num))"
   ]
  },
  {
   "cell_type": "markdown",
   "metadata": {},
   "source": [
    "### Ex - 9 \n",
    "\n",
    "####  Faça uma função que recebe um valor inteiro e verifica se o valor é par ou ímpar. A função deve retornar um valor booleano. "
   ]
  },
  {
   "cell_type": "code",
   "execution_count": 19,
   "metadata": {},
   "outputs": [
    {
     "name": "stdout",
     "output_type": "stream",
     "text": [
      "Digite um valor inteiro: 98\n",
      "O valor digitado é par?  True\n"
     ]
    }
   ],
   "source": [
    "def parImpar(valorInt):\n",
    "    if valorInt % 2 == 1:# para verificar se o valor é ímpar\n",
    "        return False # retornar valor booleano \n",
    "    else:\n",
    "        return True\n",
    "\n",
    "valor = int(input('Digite um valor inteiro: '))\n",
    "print('O valor digitado é par? ', parImpar(valor))"
   ]
  },
  {
   "cell_type": "markdown",
   "metadata": {},
   "source": [
    "### EX - 10\n",
    "\n",
    "#### Faça uma função que recebe a média final de um aluno por parâmetro e retorna o seu conceito, conforme a tabela abaixo:"
   ]
  },
  {
   "cell_type": "code",
   "execution_count": 20,
   "metadata": {},
   "outputs": [
    {
     "name": "stdout",
     "output_type": "stream",
     "text": [
      "Digite a sua média final: 8.5\n",
      "Você esta no conceito:  B\n"
     ]
    }
   ],
   "source": [
    "def conceito(media):\n",
    "    if media >= 0.0 and media <= 4.9:\n",
    "        conceito = 'D'\n",
    "    elif media >= 5.0 and media <= 6.9:\n",
    "        conceito = 'C'\n",
    "    elif media >= 7.0 and media <= 8.9:\n",
    "        conceito = 'B'\n",
    "    elif media >= 9.0 and media <= 10.0:\n",
    "        conceito = 'A'\n",
    "    return conceito \n",
    "\n",
    "med = float(input('Digite a sua média final: '))\n",
    "print('Você esta no conceito: ', conceito(med))\n"
   ]
  },
  {
   "cell_type": "markdown",
   "metadata": {},
   "source": [
    "### Ex - 11 \n",
    "\n",
    "#### Faça um função que recebe 3 valores inteiros por parâmetro e retorna-os ordenados em ordem crescente. "
   ]
  },
  {
   "cell_type": "code",
   "execution_count": 25,
   "metadata": {},
   "outputs": [
    {
     "name": "stdout",
     "output_type": "stream",
     "text": [
      "Digte um valor: 8\n",
      "Digite outro valor: 96\n",
      "Digite o ultimo valor: -8\n",
      "A ordem crescente dos valores é:  [-8, 8, 96]\n"
     ]
    }
   ],
   "source": [
    "def ordem(v1, v2, v3):\n",
    "    \n",
    "    if v1 < v2 :\n",
    "        if v2 < v3:\n",
    "            lista = [v1,v2,v3]\n",
    "            if v1<v3:\n",
    "                lista = [v1,v3,v2]\n",
    "            else:\n",
    "                lista = [v3,v1,v2]\n",
    "        else:\n",
    "            lista = [v3,v1,v2]\n",
    "    else:\n",
    "        if v2<v3:\n",
    "            if v1<v3:\n",
    "                lista = [v2,v1,v3]\n",
    "            else:\n",
    "                lista = [v2,v3,v1]\n",
    "        else:\n",
    "            lista = [v3,v2,v1]\n",
    "    return lista\n",
    "\n",
    "n1 = int(input('Digte um valor: '))\n",
    "n2 = int(input('Digite outro valor: '))\n",
    "n3 = int(input('Digite o ultimo valor: '))\n",
    "print('A ordem crescente dos valores é: ', ordem(n1,n2,n3))\n",
    "    "
   ]
  },
  {
   "cell_type": "markdown",
   "metadata": {},
   "source": [
    "### Ex - 12\n",
    "\n",
    "####  Faça uma função que receba um valor inteiro e positivo e calcula o seu fatorial. "
   ]
  },
  {
   "cell_type": "code",
   "execution_count": 26,
   "metadata": {},
   "outputs": [
    {
     "name": "stdout",
     "output_type": "stream",
     "text": [
      "Digite um valor:5\n",
      "120\n"
     ]
    }
   ],
   "source": [
    "def fatorial(valor):\n",
    "    if valor == 1 or valor==0:\n",
    "        return 1\n",
    "    else:\n",
    "        return valor*fatorial(valor-1)\n",
    "\n",
    "num = int(input('Digite um valor:'))\n",
    "print(fatorial(num))"
   ]
  },
  {
   "cell_type": "markdown",
   "metadata": {},
   "source": [
    "### Ex - 13\n",
    "\n",
    "#### Faça um função que lê 50 valores inteiros e retorna o maior e o menor deles."
   ]
  },
  {
   "cell_type": "code",
   "execution_count": 27,
   "metadata": {},
   "outputs": [
    {
     "name": "stdout",
     "output_type": "stream",
     "text": [
      "[56, 93, 92, 1, 29, 81, 76, 28, 2, 8, 15, 46, 8, 65, 34, 79, 61, 81, 20, 42, 30, 47, 10, 95, 60, 43, 85, 4, 51, 66, 18, 98, 35, 89, 74, 63, 50, 62, 24, 12, 90, 97, 6, 21, 91, 49, 48, 97, 0, 8, 24]\n",
      "O maior e o menor número da lista são respectivamente: (98, 0)\n"
     ]
    }
   ],
   "source": [
    "def maxMin(valor):\n",
    "    lista = valor\n",
    "    mai = 0\n",
    "    men = 0\n",
    "    for c in range(len(valor)):\n",
    "        if c == 0:\n",
    "            mai = men = lista[c]\n",
    "        else:\n",
    "            if lista[c] > mai:\n",
    "                mai = lista[c]\n",
    "            if lista[c]<men:\n",
    "                men = lista[c]\n",
    "        \n",
    "    return mai, men\n",
    "    \n",
    "import random\n",
    "\n",
    "v = []\n",
    "for i in range(0,51):\n",
    "    n = random.randint(0,100)\n",
    "    v.append(n)\n",
    "print(v)\n",
    "print('O maior e o menor número da lista são respectivamente:',maxMin(v))  "
   ]
  },
  {
   "cell_type": "markdown",
   "metadata": {},
   "source": [
    "### Ex - 14\n",
    "\n",
    "#### Faça um função que recebe por parâmetro um valor N e calcule tabuada de 1 até N. Mostre a tabuada na forma: 1 x N = N "
   ]
  },
  {
   "cell_type": "code",
   "execution_count": 29,
   "metadata": {},
   "outputs": [
    {
     "name": "stdout",
     "output_type": "stream",
     "text": [
      "Digite um valor: 20\n",
      " 1 x 1 =  1\n",
      " 1 x 2 =  2\n",
      " 1 x 3 =  3\n",
      " 1 x 4 =  4\n",
      " 1 x 5 =  5\n",
      " 1 x 6 =  6\n",
      " 1 x 7 =  7\n",
      " 1 x 8 =  8\n",
      " 1 x 9 =  9\n",
      " 1 x 10 =  10\n",
      " 1 x 11 =  11\n",
      " 1 x 12 =  12\n",
      " 1 x 13 =  13\n",
      " 1 x 14 =  14\n",
      " 1 x 15 =  15\n",
      " 1 x 16 =  16\n",
      " 1 x 17 =  17\n",
      " 1 x 18 =  18\n",
      " 1 x 19 =  19\n",
      " 1 x 20 =  20\n"
     ]
    }
   ],
   "source": [
    "def tabuada(n):\n",
    "    for i in range(1, n+1): # precisa colocar de um ate n mais um para ele contar o ultimo número.\n",
    "        tab = 1 * i\n",
    "    return tab\n",
    "\n",
    "\n",
    "num = int(input('Digite um valor: '))\n",
    "for num in range(1, num+1): # pra ele mostrar a tabuada ate o número digitado \n",
    "    print(' 1 x {} = '.format(num),tabuada(num))"
   ]
  },
  {
   "cell_type": "code",
   "execution_count": null,
   "metadata": {},
   "outputs": [],
   "source": []
  }
 ],
 "metadata": {
  "kernelspec": {
   "display_name": "Python 3",
   "language": "python",
   "name": "python3"
  },
  "language_info": {
   "codemirror_mode": {
    "name": "ipython",
    "version": 3
   },
   "file_extension": ".py",
   "mimetype": "text/x-python",
   "name": "python",
   "nbconvert_exporter": "python",
   "pygments_lexer": "ipython3",
   "version": "3.7.3"
  }
 },
 "nbformat": 4,
 "nbformat_minor": 4
}
