{
 "cells": [
  {
   "cell_type": "markdown",
   "id": "60192946",
   "metadata": {},
   "source": [
    "## Pilhas"
   ]
  },
  {
   "cell_type": "code",
   "execution_count": 6,
   "id": "92ee9c1d",
   "metadata": {},
   "outputs": [],
   "source": [
    "import numpy as np"
   ]
  },
  {
   "cell_type": "code",
   "execution_count": 27,
   "id": "548874e5",
   "metadata": {},
   "outputs": [],
   "source": [
    "class Pilha:\n",
    "    \n",
    "    def __init__(self,capacidade):\n",
    "        self.__capacidade = capacidade\n",
    "        self.__topo = -1\n",
    "        self.__valores = np.empty(self.__capacidade ,dtype = int)\n",
    "        \n",
    "     \n",
    "    \n",
    "    def __pilha_cheia(self):\n",
    "        if self.__topo == self.__capacidade -1:\n",
    "            return True\n",
    "        else:\n",
    "            return False\n",
    "    \n",
    "    \n",
    "    def __pilha_vazia(self):\n",
    "        if self.__topo == - 1 :\n",
    "            return True\n",
    "        else:\n",
    "            return False\n",
    "\n",
    "    \n",
    "    def empilhar(self, valor):\n",
    "        if self.__pilha_cheia():\n",
    "            print(\"A pilha está cheia\")\n",
    "        else:\n",
    "            self.__topo += 1\n",
    "            self.__valores[self.__topo] = valor\n",
    "    \n",
    "    \n",
    "    def desempilhar(self):\n",
    "        if self.__pilha_vazia():\n",
    "            print(\" A pilha está vazia\")\n",
    "        else:\n",
    "            self.__topo -= 1\n",
    "            \n",
    "            \n",
    "    def ver_topo(self):\n",
    "        if self.__topo != 1 :\n",
    "            return self.__valores[self.__topo]\n",
    "        else:\n",
    "            return -1\n",
    "        "
   ]
  },
  {
   "cell_type": "code",
   "execution_count": 24,
   "id": "39e053a7",
   "metadata": {},
   "outputs": [],
   "source": [
    "pilha = Pilha(5)"
   ]
  },
  {
   "cell_type": "code",
   "execution_count": 25,
   "id": "770d12ae",
   "metadata": {},
   "outputs": [
    {
     "data": {
      "text/plain": [
       "1"
      ]
     },
     "execution_count": 25,
     "metadata": {},
     "output_type": "execute_result"
    }
   ],
   "source": [
    "pilha.ver_topo()"
   ]
  },
  {
   "cell_type": "code",
   "execution_count": null,
   "id": "957b17f1",
   "metadata": {},
   "outputs": [],
   "source": [
    "class pilhas :\n",
    "    def __init__(self):\n",
    "        self.items = []\n",
    "        \n",
    "    def isEmpty(self):\n",
    "        return self,items == []"
   ]
  },
  {
   "cell_type": "code",
   "execution_count": 32,
   "id": "0577f832",
   "metadata": {},
   "outputs": [],
   "source": [
    "## Inverter a Ordem de uma pilha\n",
    "\n",
    "def reverse(pilha):\n",
    "    old_stack = pilha[:]\n",
    "    while not stack.is_empty():\n",
    "        stack.pop()\n",
    "    while not old_stack.is_empty():\n",
    "        stack.push(old_stack.pop())"
   ]
  },
  {
   "cell_type": "code",
   "execution_count": 33,
   "id": "839cddce",
   "metadata": {},
   "outputs": [
    {
     "data": {
      "text/plain": [
       "<__main__.Pilha at 0x26e0f6412e8>"
      ]
     },
     "execution_count": 33,
     "metadata": {},
     "output_type": "execute_result"
    }
   ],
   "source": []
  },
  {
   "cell_type": "code",
   "execution_count": 34,
   "id": "b0201b42",
   "metadata": {},
   "outputs": [
    {
     "ename": "AttributeError",
     "evalue": "'Pilha' object has no attribute 'reverse'",
     "output_type": "error",
     "traceback": [
      "\u001b[1;31m---------------------------------------------------------------------------\u001b[0m",
      "\u001b[1;31mAttributeError\u001b[0m                            Traceback (most recent call last)",
      "\u001b[1;32m<ipython-input-34-899b800f282d>\u001b[0m in \u001b[0;36m<module>\u001b[1;34m\u001b[0m\n\u001b[1;32m----> 1\u001b[1;33m \u001b[0mpilha\u001b[0m\u001b[1;33m.\u001b[0m\u001b[0mreverse\u001b[0m\u001b[1;33m\u001b[0m\u001b[1;33m\u001b[0m\u001b[0m\n\u001b[0m",
      "\u001b[1;31mAttributeError\u001b[0m: 'Pilha' object has no attribute 'reverse'"
     ]
    }
   ],
   "source": [
    "pilha.reverse"
   ]
  },
  {
   "cell_type": "code",
   "execution_count": null,
   "id": "84907cf5",
   "metadata": {},
   "outputs": [],
   "source": []
  }
 ],
 "metadata": {
  "kernelspec": {
   "display_name": "Python 3",
   "language": "python",
   "name": "python3"
  },
  "language_info": {
   "codemirror_mode": {
    "name": "ipython",
    "version": 3
   },
   "file_extension": ".py",
   "mimetype": "text/x-python",
   "name": "python",
   "nbconvert_exporter": "python",
   "pygments_lexer": "ipython3",
   "version": "3.7.3"
  }
 },
 "nbformat": 4,
 "nbformat_minor": 5
}
