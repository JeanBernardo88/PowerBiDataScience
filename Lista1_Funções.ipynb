{
 "cells": [
  {
   "cell_type": "markdown",
   "metadata": {},
   "source": [
    "## Lista Funções"
   ]
  },
  {
   "cell_type": "raw",
   "metadata": {},
   "source": [
    "1-Faça uma função que recebe por parâmetro o raio de uma esfera e calcula o seu volume v = 4*PI*R3/ 3 ."
   ]
  },
  {
   "cell_type": "code",
   "execution_count": null,
   "metadata": {},
   "outputs": [],
   "source": [
    "import math \n",
    "\n",
    "def volumeEsfera(pRaio) :\n",
    "    volume = (4 * math.pi * math.pow(pRaio,3)) / 3\n",
    "    return volume\n",
    "\n",
    "raio = float(input('Raio: '))\n",
    "print(volumeEsfera(raio))"
   ]
  },
  {
   "cell_type": "raw",
   "metadata": {},
   "source": [
    "2-Faça uma função que recebe, por parâmetro, a altura (alt) e o sexo de uma pessoa e retorna o seu peso ideal. Para homens, calcular o peso ideal usando a fórmula peso ideal = 72.7 x alt - 58 e, para mulheres, peso ideal = 62.1 x alt - 44.7"
   ]
  },
  {
   "cell_type": "code",
   "execution_count": 3,
   "metadata": {},
   "outputs": [
    {
     "name": "stdout",
     "output_type": "stream",
     "text": [
      "Digite sua altura:1.82\n",
      "Sexo [F/M]: m\n",
      "Seu peso ideal é 74.3kg\n"
     ]
    }
   ],
   "source": [
    "def peso_ideal(alt, sexo):\n",
    "    if sexo == 'f':\n",
    "        print(f'Seu peso ideal é {62.1*alt-44.7:.1f}Kg')\n",
    "    elif sexo == 'm':\n",
    "        print(f'Seu peso ideal é {72.7*alt-58:.1f}kg')\n",
    "    else:\n",
    "        print(\"informe o seu sexo corretamente\")\n",
    "        \n",
    "altura = float(input('Digite sua altura:'))        \n",
    "sexo = str(input('Sexo [F/M]: ')).strip().lower()\n",
    "peso_ideal(altura, sexo)"
   ]
  },
  {
   "cell_type": "raw",
   "metadata": {},
   "source": [
    "3-Faça uma função que recebe por parâmetro o tempo de duração de uma fábrica expressa em segundos e retorna também por parâmetro esse tempo em horas, minutos e segundos"
   ]
  },
  {
   "cell_type": "code",
   "execution_count": null,
   "metadata": {},
   "outputs": [],
   "source": [
    "def duracao(segundos):\n",
    "    horas = int(segundos / 3600) \n",
    "    resto = int(segundos % 3600) \n",
    "    min = int(resto /60) \n",
    "    resto = int(resto % 60) \n",
    "    return ('Hora(s):' + str(horas) + ', Min(s):' + str(min) + ' e segundos(s): '+ str(resto))\n",
    "\n",
    "\n",
    "segundos = int(input('Segundos: '))\n",
    "print(duracao(segundos))"
   ]
  },
  {
   "cell_type": "raw",
   "metadata": {},
   "source": [
    "4-Escreva um função que recebe as 3 notas de um aluno por parâmetro e uma letra. Se a letra for A o função calcula a média aritmética das notas do aluno, se for P, a sua média ponderada (pesos: 5, 3 e 2) e se for H, a sua média harmônica. A média calculada também deve retornar por parâmetro."
   ]
  },
  {
   "cell_type": "code",
   "execution_count": null,
   "metadata": {},
   "outputs": [],
   "source": [
    "def media (n1, n2, n3, letra):\n",
    "    if letra == 'A':\n",
    "        media = (n1 + n2 + n3)/3\n",
    "    elif letra == 'P':\n",
    "        media = (n1 * 5 + n2 * 3 + n3 *2)/10\n",
    "    elif letra == 'H':\n",
    "        media = 3 / (1/n1 + 1/n2 + 1/n3)\n",
    "    return media\n",
    "\n",
    "n1 = float(input('Digite a primeira nota: '))\n",
    "n2 = float(input('Digite a segunda nota: '))\n",
    "n3 = float(input('Digite a terceira nota: '))\n",
    "c = str(input('''Qual tipo de média deseja calcular:\n",
    "A = Aritmética\n",
    "P = Pondera\n",
    "H = Harmônica''' )).upper()\n",
    "\n",
    "print('A média {} é: '.format(c), end='')\n",
    "print(media(n1, n2, n3, c))"
   ]
  },
  {
   "cell_type": "raw",
   "metadata": {},
   "source": [
    "5-Faça uma função que recebe por parâmetro um valor inteiro e positivo e retorna o valor lógico Verdadeiro caso o valor seja primo e Falso em caso contrário."
   ]
  },
  {
   "cell_type": "code",
   "execution_count": 2,
   "metadata": {},
   "outputs": [
    {
     "name": "stdout",
     "output_type": "stream",
     "text": [
      "False\n",
      "True\n"
     ]
    }
   ],
   "source": [
    "def num_primo(numero):\n",
    "    for i in range(numero-1,1,-1):\n",
    "        if(numero % i == 0):\n",
    "            return False\n",
    "    return True\n",
    "\n",
    "print(num_primo(15))\n",
    "print(num_primo(2))"
   ]
  },
  {
   "cell_type": "raw",
   "metadata": {},
   "source": [
    "6-Faça uma função que recebe a idade de uma pessoa em anos, meses e dias e retorna essa idade expressa em dias. "
   ]
  },
  {
   "cell_type": "code",
   "execution_count": null,
   "metadata": {},
   "outputs": [],
   "source": [
    "def diasIdade(anos, meses, dias):\n",
    "    newAno = anos * 365\n",
    "    newMes = meses * 30\n",
    "    totDias = newAno + newMes + dias\n",
    "    return ('Você viveu: {} dias'.format(totDias))\n",
    "\n",
    "ano = int(input('Quantos anos vc tem: '))\n",
    "meses = int(input('E quantos meses: '))\n",
    "dias = int(input('E quantos dias: '))\n",
    "\n",
    "print(diasIdade(ano, meses, dias))"
   ]
  },
  {
   "cell_type": "raw",
   "metadata": {},
   "source": [
    "7-Faça um função que recebe a idade de um nadador por parâmetro e retorne a categoria desse nadador de acordo com a tabela abaixo:"
   ]
  },
  {
   "cell_type": "code",
   "execution_count": 4,
   "metadata": {},
   "outputs": [
    {
     "name": "stdout",
     "output_type": "stream",
     "text": [
      "Entre com a idade do nadador: 6\n",
      "Infatil A\n"
     ]
    }
   ],
   "source": [
    "def Categoria(idade):\n",
    "\n",
    "   if idade >=5 and idade <=7:\n",
    "\n",
    "       print (\"Infatil A\")\n",
    "\n",
    "   elif idade >=8 and idade <=10:\n",
    "\n",
    "       print(\"Infatil B\")\n",
    "\n",
    "   elif idade >=11 and idade <=13:\n",
    "\n",
    "       print(\"Juvenil A\")\n",
    "\n",
    "   elif idade >=14 and idade <=17:\n",
    "\n",
    "       print(\"Juvenil B\")\n",
    "\n",
    "   else:\n",
    "\n",
    "       print (\"Adulto\")\n",
    "\n",
    " \n",
    "\n",
    "idade = int(input(\"Entre com a idade do nadador: \"))\n",
    "x = Categoria(idade)"
   ]
  },
  {
   "cell_type": "raw",
   "metadata": {},
   "source": [
    "8-Faça uma função que recebe um valor inteiro e verifica se o valor é positivo ou negativo. A função deve retornar um valor booleano. "
   ]
  },
  {
   "cell_type": "code",
   "execution_count": 22,
   "metadata": {},
   "outputs": [],
   "source": [
    "def positivo_negativo(numero):\n",
    "    if (numero % 2 ) == 0:\n",
    "        return True\n",
    "    else:\n",
    "        return False\n",
    "\n",
    "print()"
   ]
  },
  {
   "cell_type": "raw",
   "metadata": {},
   "source": [
    "9-Faça uma função que recebe um valor inteiro e verifica se o valor é par ou ímpar. A função deve retornar um valor booleano."
   ]
  },
  {
   "cell_type": "code",
   "execution_count": 20,
   "metadata": {},
   "outputs": [
    {
     "name": "stdout",
     "output_type": "stream",
     "text": [
      "False\n",
      "True\n"
     ]
    }
   ],
   "source": [
    "def pos_neg(numero):\n",
    "    if numero > 0 :\n",
    "        return True\n",
    "    else:\n",
    "        return False\n",
    "print(pos_neg(-5))\n",
    "print(pos_neg(3))"
   ]
  },
  {
   "cell_type": "raw",
   "metadata": {},
   "source": [
    "10-Faça uma função que recebe a média final de um aluno por parâmetro e retorna o seu conceito, conforme a tabela abaixo."
   ]
  },
  {
   "cell_type": "code",
   "execution_count": 25,
   "metadata": {},
   "outputs": [
    {
     "name": "stdout",
     "output_type": "stream",
     "text": [
      "Digite a média final do aluno: 10\n",
      "Conceito A\n"
     ]
    }
   ],
   "source": [
    "def media_final(nota):\n",
    "    if nota <= 0 and nota <= 4.9:\n",
    "        print(\"Conceito D\")\n",
    "        \n",
    "    elif nota <= 5 and nota <= 6.9:\n",
    "        print(\"Conceito C\")\n",
    "    \n",
    "    elif nota <= 7 and nota <= 8.9:\n",
    "        print(\"Conceito B\")\n",
    "        \n",
    "    else:\n",
    "        print('Conceito A')\n",
    "        \n",
    "nota = float(input(\"Digite a média final do aluno: \"))\n",
    "x = media_final(nota)"
   ]
  },
  {
   "cell_type": "raw",
   "metadata": {},
   "source": [
    "11-Faça um função que recebe 3 valores inteiros por parâmetro e retorna-os ordenados em ordem crescente."
   ]
  },
  {
   "cell_type": "code",
   "execution_count": null,
   "metadata": {},
   "outputs": [],
   "source": [
    "def ordem(v1, v2, v3):\n",
    "    \n",
    "    if v1 < v2 :\n",
    "        if v2 < v3:\n",
    "            lista = [v1,v2,v3]\n",
    "            if v1<v3:\n",
    "                lista = [v1,v3,v2]\n",
    "            else:\n",
    "                lista = [v3,v1,v2]\n",
    "        else:\n",
    "            lista = [v3,v1,v2]\n",
    "    else:\n",
    "        if v2<v3:\n",
    "            if v1<v3:\n",
    "                lista = [v2,v1,v3]\n",
    "            else:\n",
    "                lista = [v2,v3,v1]\n",
    "        else:\n",
    "            lista = [v3,v2,v1]\n",
    "    return lista\n",
    "\n",
    "n1 = int(input('Digte um valor: '))\n",
    "n2 = int(input('Digite outro valor: '))\n",
    "n3 = int(input('Digite o ultimo valor: '))\n",
    "print('A ordem crescente dos valores é: ', ordem(n1,n2,n3))"
   ]
  },
  {
   "cell_type": "raw",
   "metadata": {},
   "source": [
    "12-Faça uma função que receba um valor inteiro e positivo e calcula o seu fatorial."
   ]
  },
  {
   "cell_type": "code",
   "execution_count": null,
   "metadata": {},
   "outputs": [],
   "source": [
    "def fatorial(v):\n",
    "    a = 1\n",
    "    for c in range(1, v+1):\n",
    "        a = a * c\n",
    "    return(\" O resulado de {}! é {}.\".format(v,a))    \n",
    "\n",
    "y = int(input(\" Informe o número : \"))\n",
    "print(fatorial(v))"
   ]
  },
  {
   "cell_type": "raw",
   "metadata": {},
   "source": [
    "13-Faça um função que lê 50 valores inteiros e retorna o maior e o menor deles."
   ]
  },
  {
   "cell_type": "code",
   "execution_count": null,
   "metadata": {},
   "outputs": [],
   "source": [
    "def maxMin(valor):\n",
    "    lista = valor\n",
    "    mai = 0\n",
    "    men = 0\n",
    "    for c in range(len(valor)):\n",
    "        if c == 0:\n",
    "            mai = men = lista[c]\n",
    "        else:\n",
    "            if lista[c] > mai:\n",
    "                mai = lista[c]\n",
    "            if lista[c]<men:\n",
    "                men = lista[c]\n",
    "        \n",
    "    return mai, men\n",
    "    \n",
    "import random\n",
    "\n",
    "v = []\n",
    "for i in range(0,51):\n",
    "    n = random.randint(0,100)\n",
    "    v.append(n)\n",
    "print(v)\n",
    "print('O maior e o menor número da lista são respectivamente:',maxMin(v))  \n",
    "\n"
   ]
  },
  {
   "cell_type": "raw",
   "metadata": {},
   "source": [
    "14-Faça um função que recebe por parâmetro um valor N e calcule tabuada de 1 até N. Mostre a tabuada na forma: 1 x N = N ."
   ]
  },
  {
   "cell_type": "code",
   "execution_count": null,
   "metadata": {},
   "outputs": [],
   "source": [
    "def tabuada(n):\n",
    "    for i in range(1, n+1): \n",
    "        tab = 1 * i\n",
    "    return tab\n",
    "\n",
    "\n",
    "num = int(input('Digite um valor: '))\n",
    "for num in range(1, num+1): \n",
    "    print(' 1 x {} = '.format(num),tabuada(num))\n",
    "    "
   ]
  }
 ],
 "metadata": {
  "kernelspec": {
   "display_name": "Python 3",
   "language": "python",
   "name": "python3"
  },
  "language_info": {
   "codemirror_mode": {
    "name": "ipython",
    "version": 3
   },
   "file_extension": ".py",
   "mimetype": "text/x-python",
   "name": "python",
   "nbconvert_exporter": "python",
   "pygments_lexer": "ipython3",
   "version": "3.7.3"
  }
 },
 "nbformat": 4,
 "nbformat_minor": 4
}
