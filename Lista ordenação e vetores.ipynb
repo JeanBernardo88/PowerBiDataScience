{
 "cells": [
  {
   "cell_type": "code",
   "execution_count": 3,
   "metadata": {
    "scrolled": true
   },
   "outputs": [
    {
     "name": "stdout",
     "output_type": "stream",
     "text": [
      "[2, 41, 15, 28, 0] [49, 34, 30, 42, 27] [17, 6, 7, 33, 48] [47, 44, 31, 13, 35] [43, 2, 24, 36, 34] [49, 40, 22, 42, 38]\n",
      "Os nº pares são: [2, 28, 0, 34, 30, 42, 6, 48, 44, 2, 24, 36, 34, 40, 22, 42, 38] e os ímpares são: [41, 15, 49, 27, 17, 7, 33, 47, 31, 13, 35, 43, 49]\n"
     ]
    }
   ],
   "source": [
    "#ex-1\n",
    "\n",
    "from random import randint\n",
    "\n",
    "a = []\n",
    "b = []\n",
    "c = []\n",
    "d = []\n",
    "e = []\n",
    "f = []\n",
    "for i in range(1,31):\n",
    "    n = randint(0,50)\n",
    "    if i >= 1 and i <= 5:\n",
    "        a.append(n)\n",
    "    elif i >= 6 and i <= 10:\n",
    "        b.append(n)\n",
    "    elif i >= 11 and i <= 15:\n",
    "        c.append(n)\n",
    "    elif i >= 16 and i <= 20:\n",
    "        d.append(n)\n",
    "    elif i >= 21 and i <= 25:\n",
    "        e.append(n)\n",
    "    elif i >= 26 and i <= 30:\n",
    "        f.append(n)\n",
    "print(a, b, c, d, e, f)\n",
    "\n",
    "p = []\n",
    "i = []\n",
    "\n",
    "for x in range(len(a)):\n",
    "    if a[x] % 2 == 0:\n",
    "        p.append(a[x])\n",
    "    else:\n",
    "        i.append(a[x])\n",
    "for x in range(len(b)):\n",
    "    if b[x] % 2 == 0:\n",
    "        p.append(b[x])\n",
    "    else:\n",
    "        i.append(b[x])\n",
    "for x in range(len(c)):\n",
    "    if c[x] % 2 == 0:\n",
    "        p.append(c[x])\n",
    "    else:\n",
    "        i.append(c[x])\n",
    "for x in range(len(d)):\n",
    "    if d[x] % 2 == 0:\n",
    "        p.append(d[x])\n",
    "    else:\n",
    "        i.append(d[x])   \n",
    "for x in range(len(e)):\n",
    "    if e[x] % 2 == 0:\n",
    "        p.append(e[x])\n",
    "    else:\n",
    "        i.append(e[x])\n",
    "for x in range(len(f)):\n",
    "    if f[x] % 2 == 0:\n",
    "        p.append(f[x])\n",
    "    else:\n",
    "        i.append(f[x])\n",
    "\n",
    "print('Os nº pares são: {} e os ímpares são: {}'.format(p, i))\n"
   ]
  },
  {
   "cell_type": "code",
   "execution_count": 4,
   "metadata": {},
   "outputs": [
    {
     "name": "stdout",
     "output_type": "stream",
     "text": [
      "[4, 5, 8, 1, 8, 3, 3, 10, 2, 12]\n",
      "[3, 2, 7, 5, 9, 8, 6, 7, 5, 12]\n",
      "[12, 10, 56, 5, 72, 24, 18, 70, 10, 144]\n"
     ]
    }
   ],
   "source": [
    "#ex-2\n",
    "\n",
    "from random import randint\n",
    "\n",
    "a = []\n",
    "b = []\n",
    "\n",
    "for c in range(1,11):\n",
    "    na = randint(0,12)\n",
    "    a.append(na)\n",
    "print(a)\n",
    "for i in range(1,11):\n",
    "    nb =  randint(0,12)\n",
    "    b.append(nb)\n",
    "print(b)\n",
    "\n",
    "c = []\n",
    "for x in range(len(a)):\n",
    "    mult = a[x]*b[x]\n",
    "    c.append(mult)\n",
    "print(c)\n"
   ]
  },
  {
   "cell_type": "code",
   "execution_count": 6,
   "metadata": {
    "scrolled": true
   },
   "outputs": [
    {
     "name": "stdout",
     "output_type": "stream",
     "text": [
      "[15, 17, 44, 0, 24, 15, 5, 39, 38, 6, 28, 48, 45, 8, 30, 16, 13, 8, 24, 21]\n",
      "12\n"
     ]
    }
   ],
   "source": [
    "#ex-3\n",
    "\n",
    "from random import randint\n",
    "\n",
    "v = []\n",
    "for c in range(1,21):\n",
    "    n = randint(0,50)\n",
    "    v.append(n)\n",
    "print(v)\n",
    "\n",
    "count = 0\n",
    "for i in range(len(v)):\n",
    "    if v[i] % 2 == 0:\n",
    "        count += 1\n",
    "print(count)\n",
    "        "
   ]
  },
  {
   "cell_type": "code",
   "execution_count": 7,
   "metadata": {},
   "outputs": [
    {
     "name": "stdout",
     "output_type": "stream",
     "text": [
      "[12, -2, 20, 18, -1, 1, 2, 12, -10, 19]\n",
      "[-10, -2, -1, 1, 2, 12, 12, 18, 19, 20]\n",
      "22\n"
     ]
    }
   ],
   "source": [
    "#ex-4\n",
    "\n",
    "from random import randint\n",
    "\n",
    "v = []\n",
    "\n",
    "for c in range(1,11):\n",
    "    n = randint(-10,20)\n",
    "    v.append(n)\n",
    "print(v)\n",
    "\n",
    "count = 0\n",
    "for i in range(len(v)):\n",
    "    for x in range(len(v)-1):\n",
    "        if v[x] > v[x+1]:\n",
    "            count += 1\n",
    "            a = v[x]\n",
    "            v[x] = v[x+1]\n",
    "            v[x+1] = a\n",
    "print(v)\n",
    "print(count)\n"
   ]
  },
  {
   "cell_type": "code",
   "execution_count": 1,
   "metadata": {},
   "outputs": [
    {
     "name": "stdout",
     "output_type": "stream",
     "text": [
      "Digite o 1º número: 8\n",
      "Digite o 2º número: -7\n",
      "Digite o 3º número: 45\n",
      "Digite o 4º número: 25\n",
      "Digite o 5º número: 12\n",
      "Digite o 6º número: -2\n",
      "Digite o 7º número: 6\n",
      "Digite o 8º número: 45\n",
      "Digite o 9º número: 23\n",
      "Digite o 10º número: 0\n",
      "[8, -7, 45, 25, 12, -2, 6, 45, 23, 0]\n",
      "[-7, -2, 0, 6, 8, 12, 23, 25, 45, 45]\n",
      "45\n"
     ]
    }
   ],
   "source": [
    "#ex-5\n",
    "\n",
    "v = []\n",
    "\n",
    "for c in range(1,11):\n",
    "    n = int(input('Digite o {}º número: '.format(c)))\n",
    "    v.append(n)\n",
    "print(v)\n",
    "\n",
    "i = 0\n",
    "count = 0\n",
    "while i < (len(v)): \n",
    "    menor = v[i] #o menor começa senod o primeiro elemento da lista\n",
    "    posicaoMenor = i #gurada sua posição\n",
    "    for c in range(i+1, len(v)): #do próximo elemento até o final da lista\n",
    "        count += 1\n",
    "        if v[c] < menor: \n",
    "            menor = v[c] #menor passa a ser o da frente\n",
    "            posicaoMenor = c\n",
    "    v[i], v[posicaoMenor] = v[posicaoMenor], v[i] #passa oq era o menor para frente e trás p nº menor para a esquerda\n",
    "    i = i +1 #icrementa para analisar o próximo\n",
    "print(v)\n",
    "print(count)"
   ]
  },
  {
   "cell_type": "code",
   "execution_count": 1,
   "metadata": {},
   "outputs": [
    {
     "name": "stdout",
     "output_type": "stream",
     "text": [
      "[8, 8, 6, -3, -4, 6, 11, -3, 0, 12]\n",
      "[12, 0, -3, 11, 6, -4, -3, 6, 8, 8]\n"
     ]
    }
   ],
   "source": [
    "#ex-6\n",
    "import random\n",
    "l = []\n",
    "for c in range(1,11):\n",
    "   l.append(random.randint(-5,15))\n",
    "print(l)\n",
    "\n",
    "for i in range(5): #vai até metade do vetor, pra ele avançar e voltar do msm tamanho\n",
    "    l[i], l[9-i] = l[9-i],l[i] #pego o primeiro elemento, e tira um tanto da ultima casa, pra dar o msm\n",
    "print(l)"
   ]
  },
  {
   "cell_type": "code",
   "execution_count": null,
   "metadata": {},
   "outputs": [],
   "source": [
    "#ex-7\n",
    "\n",
    "v = []\n",
    "p = []\n",
    "\n",
    "for c in range(1,11):\n",
    "    a = int(input('Digite os números do seu vetor: '))\n",
    "    v.append(a)\n",
    "for c in range (len(v)):\n",
    "    if v[c] >= 0:\n",
    "        p.append(v[c])\n",
    "print(p)\n",
    "        "
   ]
  },
  {
   "cell_type": "code",
   "execution_count": null,
   "metadata": {},
   "outputs": [],
   "source": [
    "#ex-8\n",
    "\n",
    "import random\n",
    "lista = []\n",
    "for c in range(0,81):\n",
    "    lista.append(random.randint(-15,350))\n",
    "print(lista)\n",
    "\n",
    "c = 0\n",
    "\n",
    "for i in range(len(lista)-1):\n",
    "    menor = lista[i]\n",
    "    indice = i\n",
    "    if lista[i +1] < lista[i]:\n",
    "        menor, indice = lista[i+1], i+1\n",
    "print(menor, indice)"
   ]
  },
  {
   "cell_type": "code",
   "execution_count": null,
   "metadata": {},
   "outputs": [],
   "source": [
    "#ex-9\n",
    "\n",
    "import random\n",
    "v1 = []\n",
    "v2 = []\n",
    "\n",
    "for c in range(1,11):\n",
    "    v1.append(random.randint(0,20))\n",
    "\n",
    "\n",
    "for x in range(1,11):\n",
    "    v2.append(random.randint(0,20))\n",
    "print(v1, v2)\n",
    "\n",
    "v3 = v1 + v2\n",
    "\n",
    "for i in range(len(v3)):\n",
    "    for m in range(len(v3)-1):\n",
    "        if v3[m]> v3[m+1]:\n",
    "            a = v3[m]\n",
    "            v3[m] = v3[m+1]\n",
    "            v3[m+1] = a\n",
    "print(v3)"
   ]
  },
  {
   "cell_type": "markdown",
   "metadata": {},
   "source": [
    "## Ex-10"
   ]
  },
  {
   "cell_type": "code",
   "execution_count": 7,
   "metadata": {},
   "outputs": [
    {
     "name": "stdout",
     "output_type": "stream",
     "text": [
      "{1, 2, 3, 5, 6, 10, 15, -8, -2, 31}\n",
      "{2, 5, 6, 9, 10, 11, 14, 22, -7, -5}\n",
      "A união dos conjuntos é: {1, 2, 3, 5, 6, 9, 10, 11, 14, 15, 22, 31, -8, -7, -5, -2}\n",
      "A diferença entre esses conjuntos é: {1, 3, 15, -8, -2, 31}\n",
      "A soma entre esses conjuntos é: [1, 2, 3, 5, 6, 10, 15, -8, -2, 31, 2, 5, 6, 9, 10, 11, 14, 22, -7, -5]\n",
      "O produto entre as listas é [2, 10, 18, 45, 60, 110, 210, -176, 14, -155]\n",
      "A intersecção de X e Y é: {2, 10, 5, 6}\n"
     ]
    }
   ],
   "source": [
    "import random\n",
    "\n",
    "x = {-2,10,2,3,5,6,15,31,-8,1}\n",
    "y = {6,10,14,2,5,9,-7,-5,22,11}\n",
    "print(x)\n",
    "print(y)\n",
    "\n",
    "z = x.union(y)\n",
    "print('A união dos conjuntos é: {}'.format(z))\n",
    "z = x.difference(y) \n",
    "print('A diferença entre esses conjuntos é: {}'.format(z))\n",
    "\n",
    "z = list(x)+list(y)\n",
    "print('A soma entre esses conjuntos é: {}'.format(z))\n",
    "\n",
    "z = []\n",
    "for c in range(10):\n",
    "    z.append(list(x)[c] * list(y)[c])\n",
    "print('O produto entre as listas é {}'.format(z))\n",
    "\n",
    "z = x.intersection(y)\n",
    "print('A intersecção de X e Y é: {}'.format(z))"
   ]
  },
  {
   "cell_type": "markdown",
   "metadata": {},
   "source": [
    "## Ex-11"
   ]
  },
  {
   "cell_type": "code",
   "execution_count": 3,
   "metadata": {},
   "outputs": [
    {
     "ename": "IndexError",
     "evalue": "list index out of range",
     "output_type": "error",
     "traceback": [
      "\u001b[1;31m---------------------------------------------------------------------------\u001b[0m",
      "\u001b[1;31mIndexError\u001b[0m                                Traceback (most recent call last)",
      "\u001b[1;32m<ipython-input-3-75dbd03d78f5>\u001b[0m in \u001b[0;36m<module>\u001b[1;34m\u001b[0m\n\u001b[0;32m      3\u001b[0m \u001b[1;32mfor\u001b[0m \u001b[0mc\u001b[0m \u001b[1;32min\u001b[0m \u001b[0mrange\u001b[0m\u001b[1;33m(\u001b[0m\u001b[1;36m0\u001b[0m\u001b[1;33m,\u001b[0m\u001b[0mlen\u001b[0m\u001b[1;33m(\u001b[0m\u001b[0mx\u001b[0m\u001b[1;33m)\u001b[0m\u001b[1;33m+\u001b[0m\u001b[1;36m1\u001b[0m\u001b[1;33m)\u001b[0m\u001b[1;33m:\u001b[0m\u001b[1;33m\u001b[0m\u001b[1;33m\u001b[0m\u001b[0m\n\u001b[0;32m      4\u001b[0m     \u001b[0munico\u001b[0m \u001b[1;33m=\u001b[0m \u001b[0mx\u001b[0m\u001b[1;33m[\u001b[0m\u001b[0mc\u001b[0m\u001b[1;33m]\u001b[0m\u001b[1;33m\u001b[0m\u001b[1;33m\u001b[0m\u001b[0m\n\u001b[1;32m----> 5\u001b[1;33m     \u001b[1;32mif\u001b[0m \u001b[0mx\u001b[0m\u001b[1;33m[\u001b[0m\u001b[0mc\u001b[0m\u001b[1;33m+\u001b[0m\u001b[1;36m1\u001b[0m\u001b[1;33m]\u001b[0m \u001b[1;33m==\u001b[0m \u001b[0mx\u001b[0m\u001b[1;33m[\u001b[0m\u001b[0mc\u001b[0m\u001b[1;33m]\u001b[0m\u001b[1;33m:\u001b[0m\u001b[1;33m\u001b[0m\u001b[1;33m\u001b[0m\u001b[0m\n\u001b[0m\u001b[0;32m      6\u001b[0m         \u001b[0mrepetido\u001b[0m \u001b[1;33m=\u001b[0m \u001b[0mx\u001b[0m\u001b[1;33m[\u001b[0m\u001b[0mc\u001b[0m\u001b[1;33m]\u001b[0m\u001b[1;33m\u001b[0m\u001b[1;33m\u001b[0m\u001b[0m\n\u001b[0;32m      7\u001b[0m \u001b[0mprint\u001b[0m\u001b[1;33m(\u001b[0m\u001b[0mrepetido\u001b[0m\u001b[1;33m)\u001b[0m\u001b[1;33m\u001b[0m\u001b[1;33m\u001b[0m\u001b[0m\n",
      "\u001b[1;31mIndexError\u001b[0m: list index out of range"
     ]
    }
   ],
   "source": [
    "x = [1,2,55,12,7,4,6,96,8,2,4,3,10,12,2,5,11,-5,5,20]\n",
    "\n",
    "for c in range(0,len(x)+1):\n",
    "    unico = x[c]\n",
    "    if x[c+1] == x[c]:\n",
    "        repetido = x[c]\n",
    "print(repetido)"
   ]
  },
  {
   "cell_type": "markdown",
   "metadata": {},
   "source": [
    "## Ex-12"
   ]
  },
  {
   "cell_type": "code",
   "execution_count": 29,
   "metadata": {},
   "outputs": [
    {
     "name": "stdout",
     "output_type": "stream",
     "text": [
      "[1, 1, 1, 1, 1, 1]\n",
      "[1, 2, 2, 2, 2, 1]\n",
      "[1, 2, 3, 3, 2, 1]\n",
      "[1, 2, 3, 3, 2, 1]\n",
      "[1, 2, 2, 2, 2, 1]\n",
      "[1, 1, 1, 1, 1, 1]\n"
     ]
    }
   ],
   "source": [
    "matriz = []\n",
    "for c in range(0,6):\n",
    "    linha = []\n",
    "    for j in range(0,6):\n",
    "        linha.append(1) #gerando a matriz 6x6 inteira cm o nº1\n",
    "    matriz.append(linha)\n",
    "\n",
    "for i in range(1,5): #o 'quadrado' maior recebe nº2, que são as linhas 1 e 4, e tbm as colunas 1 e 4\n",
    "    for j in range(1,5):\n",
    "        matriz[i][j]= 2\n",
    "   \n",
    "for i in range(2,4): #o ms para o outro quadrado do centro com o nº 3, linhas 2 e 3, e colunas 2 e 3 tbm\n",
    "    for j in range(2,4):\n",
    "        matriz[i][j] = 3\n",
    "        \n",
    "for c in range(len(matriz)):\n",
    "    print(matriz[c])\n",
    "      "
   ]
  }
 ],
 "metadata": {
  "kernelspec": {
   "display_name": "Python 3",
   "language": "python",
   "name": "python3"
  },
  "language_info": {
   "codemirror_mode": {
    "name": "ipython",
    "version": 3
   },
   "file_extension": ".py",
   "mimetype": "text/x-python",
   "name": "python",
   "nbconvert_exporter": "python",
   "pygments_lexer": "ipython3",
   "version": "3.7.3"
  }
 },
 "nbformat": 4,
 "nbformat_minor": 4
}
