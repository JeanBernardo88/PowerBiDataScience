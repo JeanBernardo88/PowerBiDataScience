{
 "cells": [
  {
   "cell_type": "markdown",
   "metadata": {},
   "source": [
    "## Lista de Exercícios 02_ Vetores, Matrizes e Ordenação"
   ]
  },
  {
   "cell_type": "raw",
   "metadata": {},
   "source": [
    "1-Elaborar um algoritmo que lê um conjunto de 30 valores e os coloca em 2 vetores conforme forem pares ou ímpares. O tamanho do vetor é de 5 posições. Terminada a leitura escrever o conteúdo dos dois vetores. Cada vetor pode ser preenchido tantas vezes quantas for necessário."
   ]
  },
  {
   "cell_type": "raw",
   "metadata": {},
   "source": [
    "2-Escreva um algoritmo que leia dois vetores de 10 posições e faça a multiplicação dos elementos de mesmo índice, colocando o resultado em um terceiro vetor. Mostre o vetor resultante."
   ]
  },
  {
   "cell_type": "code",
   "execution_count": 2,
   "metadata": {},
   "outputs": [
    {
     "name": "stdout",
     "output_type": "stream",
     "text": [
      "[[17 16 18 14  7 19  6  6  2 19]]\n",
      "[[16  8 19 12 15  8  7 17 17 10]]\n",
      "[[272 128 342 168 105 152  42 102  34 190]]\n"
     ]
    }
   ],
   "source": [
    "import random\n",
    "import numpy as np\n",
    "vet1 = np.random.randint(1,20, (1,10)) \n",
    "vet2 = np.random.randint(1,20, (1,10)) \n",
    "print(vet1)\n",
    "print(vet2)\n",
    "print(vet1 * vet2)"
   ]
  },
  {
   "cell_type": "raw",
   "metadata": {},
   "source": [
    "3-Escreva um algoritmo que leia e mostre um vetor de 20 elementos inteiros. a seguir, conte quantos valores pares existem no vetor."
   ]
  },
  {
   "cell_type": "code",
   "execution_count": 3,
   "metadata": {},
   "outputs": [
    {
     "name": "stdout",
     "output_type": "stream",
     "text": [
      "[[88 79 66  6 69 54 55 15 81 22 10  6 68 52 63 54 17 80  8 86]]\n",
      "A quantidade de pares é : 7\n"
     ]
    }
   ],
   "source": [
    "vet1 = np.random.randint(1,100, (1,20)) \n",
    "print(vet1)\n",
    "print('A quantidade de pares é : {}'.format(np.count_nonzero(vet1 % 2 == 1))) "
   ]
  },
  {
   "cell_type": "raw",
   "metadata": {},
   "source": [
    "4 Escreva um algoritmo que leia um vetor de 10 posições e mostre-o ordenado em ordem crescente utilizando o  método BubleSort. Escreva a quantidade de comparações que foram realizadas"
   ]
  },
  {
   "cell_type": "code",
   "execution_count": 4,
   "metadata": {},
   "outputs": [
    {
     "data": {
      "text/plain": [
       "array([ 1,  5,  8, 10, 13, 25, 41, 45, 74, 95])"
      ]
     },
     "execution_count": 4,
     "metadata": {},
     "output_type": "execute_result"
    }
   ],
   "source": [
    "import numpy as np\n",
    "def bubble_sort(vetor):\n",
    "  n = len(vetor)\n",
    "\n",
    "  for i in range(n):\n",
    "    for j in range(0, n - i - 1):\n",
    "      if vetor[j] > vetor[j + 1]:\n",
    "        temp = vetor[j]\n",
    "        vetor[j] = vetor[j + 1]\n",
    "        vetor[j + 1] = temp\n",
    "  return vetor   \n",
    "\n",
    "bubble_sort(np.array([95,74,1,8,10,25,5,41,13,45]))"
   ]
  },
  {
   "cell_type": "raw",
   "metadata": {},
   "source": [
    "5-Escreva um algoritmo que leia um vetor de 10 posições e mostre-o ordenado em ordem crescente utilizando o método SelectionSort. Escreva a quantidade de comparações que foram realizadas."
   ]
  },
  {
   "cell_type": "code",
   "execution_count": 5,
   "metadata": {},
   "outputs": [
    {
     "data": {
      "text/plain": [
       "array([ 1,  2,  3,  4,  5,  6,  7,  8,  9, 10])"
      ]
     },
     "execution_count": 5,
     "metadata": {},
     "output_type": "execute_result"
    }
   ],
   "source": [
    "def selection_sort(vetor):\n",
    "  n = len(vetor)\n",
    "\n",
    "  for i in range(n):\n",
    "    id_minimo = i\n",
    "    for j in range(i + 1, n):\n",
    "      if vetor[id_minimo] > vetor[j]:\n",
    "        id_minimo = j\n",
    "    temp = vetor[i]\n",
    "    vetor[i] = vetor[id_minimo]\n",
    "    vetor[id_minimo] = temp\n",
    "  \n",
    "  return vetor\n",
    "\n",
    "selection_sort(np.array([10, 9, 8, 7, 6, 5, 4, 3, 2, 1]))"
   ]
  },
  {
   "cell_type": "raw",
   "metadata": {},
   "source": [
    "6-Escreva um algoritmo que leia um vetor de 10 posições e mostre- o. Em seguida, troque o primeiro elemento com o último, o segundo com o penúltimo, o terceiro com o antepenúltimo, e assim sucessivamente. Mostre o novo vetor depois da troca."
   ]
  },
  {
   "cell_type": "raw",
   "metadata": {},
   "source": [
    "7-Escreva um algoritmo que leia um vetor de 10 posições de números inteiros e mostre somente os positivos."
   ]
  },
  {
   "cell_type": "code",
   "execution_count": 6,
   "metadata": {},
   "outputs": [
    {
     "data": {
      "text/plain": [
       "[-5, -1, -6, -2, -10, -7, -8]"
      ]
     },
     "execution_count": 6,
     "metadata": {},
     "output_type": "execute_result"
    }
   ],
   "source": [
    "vet1 = [1,-5,3,-1,-6,4,-2,-10,-7,-8]\n",
    "[ x for x in vet1 if x < 0]   #ListComprehention"
   ]
  },
  {
   "cell_type": "raw",
   "metadata": {},
   "source": [
    "8-Escreva um algoritmo que leia um vetor de 80 elementos inteiros. Encontre e mostre o menor elemento e sua posição no vetor."
   ]
  },
  {
   "cell_type": "code",
   "execution_count": 8,
   "metadata": {},
   "outputs": [
    {
     "name": "stdout",
     "output_type": "stream",
     "text": [
      "[[33 23 95 32 27 44 48 61 57 32 58 82 68 34 44 47 78 54 52 88 89 80 14 85\n",
      "  50 96 76 67 64 81 74 77 83 16 72 50 37 17 56 84 93 18 53 58 34 14 65 86\n",
      "  50 76 68 67 34 87 60 23 41 91 85 88 68 65 55 95 34 69 51 28 77 40 20 77\n",
      "  71 79 21 84 66 12 66 62]]\n"
     ]
    },
    {
     "data": {
      "text/plain": [
       "12"
      ]
     },
     "execution_count": 8,
     "metadata": {},
     "output_type": "execute_result"
    }
   ],
   "source": [
    "vet1 = np.random.randint(10,100, (1,80)) \n",
    "print(vet1)\n",
    "np.min(vet1)\n"
   ]
  },
  {
   "cell_type": "raw",
   "metadata": {},
   "source": [
    "9-Escrever um algoritmo que lê 2 vetores de tamanho 10 e os escreve. Crie, a seguir, um vetor de 20 posições  que contenha os elementos dos outros 2 vetores em ordem crescente."
   ]
  },
  {
   "cell_type": "raw",
   "metadata": {},
   "source": [
    "10-Escrever um algoritmo que lê 2 vetores X(10) e Y(10) e os escreve. Crie, a seguir, um vetor Z que seja \n",
    "a) a união de X com Y; \n",
    "b) a diferença entre X e Y; \n",
    "c) a soma entre X e Y; \n",
    "d) o produto entre X e Y; \n",
    "e) a intersecção entre X e Y. \n",
    "Escreva o vetor Z a cada cálculo"
   ]
  },
  {
   "cell_type": "code",
   "execution_count": 10,
   "metadata": {},
   "outputs": [
    {
     "name": "stdout",
     "output_type": "stream",
     "text": [
      "[[24 26 16 11 13 18  2  8 27  3]]\n",
      "[[23 27 13  8 24  4 12 29 12 21]]\n",
      "[ 2  3  4  8 11 12 13 16 18 21 23 24 26 27 29]\n"
     ]
    }
   ],
   "source": [
    "# a) a união de X com Y\n",
    "x = np.random.randint(1,30, (1,10)) \n",
    "y = np.random.randint(1,30, (1,10))\n",
    "z = np.union1d(x, y)\n",
    "print(x)\n",
    "print(y)\n",
    "print(z)"
   ]
  },
  {
   "cell_type": "code",
   "execution_count": 13,
   "metadata": {},
   "outputs": [
    {
     "data": {
      "text/plain": [
       "array([[  1,  -1,   3,   3, -11,  14, -10, -21,  15, -18]])"
      ]
     },
     "execution_count": 13,
     "metadata": {},
     "output_type": "execute_result"
    }
   ],
   "source": [
    "# b) a diferença entre X e Y\n",
    "z = x - y\n",
    "z"
   ]
  },
  {
   "cell_type": "code",
   "execution_count": 14,
   "metadata": {},
   "outputs": [
    {
     "data": {
      "text/plain": [
       "array([[47, 53, 29, 19, 37, 22, 14, 37, 39, 24]])"
      ]
     },
     "execution_count": 14,
     "metadata": {},
     "output_type": "execute_result"
    }
   ],
   "source": [
    "# c) a Soma entre X e Y\n",
    "z = x + y\n",
    "z"
   ]
  },
  {
   "cell_type": "code",
   "execution_count": 16,
   "metadata": {},
   "outputs": [
    {
     "data": {
      "text/plain": [
       "array([[552, 702, 208,  88, 312,  72,  24, 232, 324,  63]])"
      ]
     },
     "execution_count": 16,
     "metadata": {},
     "output_type": "execute_result"
    }
   ],
   "source": [
    "# d)O produto entre X e Y\n",
    "z = x * y\n",
    "z"
   ]
  },
  {
   "cell_type": "code",
   "execution_count": 17,
   "metadata": {},
   "outputs": [
    {
     "name": "stdout",
     "output_type": "stream",
     "text": [
      "[[24 26 16 11 13 18  2  8 27  3]]\n",
      "[[23 27 13  8 24  4 12 29 12 21]]\n",
      "[ 8 13 24 27]\n"
     ]
    }
   ],
   "source": [
    "# e) A intersecção entre x e y\n",
    "z = np.intersect1d(x,y)\n",
    "print(x)\n",
    "print(y)\n",
    "print(z)"
   ]
  },
  {
   "cell_type": "raw",
   "metadata": {},
   "source": [
    "11-Escrever um algoritmo que lê um vetor X(20) e o escreve. Escreva, a seguir, cada um dos valores distintos \n",
    "que aparecem em X dizendo quantas vezes cada valor aparece em X"
   ]
  },
  {
   "cell_type": "raw",
   "metadata": {},
   "source": [
    "12-Faça um algoritmo que gere a seguinte matriz: \n",
    "1 1 1 1 1 1\n",
    "1 2 2 2 2 1\n",
    "1 2 3 3 2 1\n",
    "1 2 3 3 2 1\n",
    "1 2 2 2 2 1\n",
    "1 1 1 1 1 1"
   ]
  },
  {
   "cell_type": "code",
   "execution_count": 18,
   "metadata": {},
   "outputs": [
    {
     "data": {
      "text/plain": [
       "matrix([[1, 1, 1, 1, 1, 1],\n",
       "        [1, 2, 2, 2, 2, 1],\n",
       "        [1, 2, 3, 3, 2, 1],\n",
       "        [1, 2, 3, 3, 2, 1],\n",
       "        [1, 2, 2, 2, 2, 1],\n",
       "        [1, 1, 1, 1, 1, 1]])"
      ]
     },
     "execution_count": 18,
     "metadata": {},
     "output_type": "execute_result"
    }
   ],
   "source": [
    "m = np.matrix('1,1,1,1,1,1; 1,2,2,2,2,1 ; 1,2,3,3,2,1 ; 1,2,3,3,2,1 ; 1,2,2,2,2,1 ; 1,1,1,1,1,1')\n",
    "m"
   ]
  },
  {
   "cell_type": "code",
   "execution_count": null,
   "metadata": {},
   "outputs": [],
   "source": []
  }
 ],
 "metadata": {
  "kernelspec": {
   "display_name": "Python 3",
   "language": "python",
   "name": "python3"
  },
  "language_info": {
   "codemirror_mode": {
    "name": "ipython",
    "version": 3
   },
   "file_extension": ".py",
   "mimetype": "text/x-python",
   "name": "python",
   "nbconvert_exporter": "python",
   "pygments_lexer": "ipython3",
   "version": "3.8.3"
  }
 },
 "nbformat": 4,
 "nbformat_minor": 4
}
