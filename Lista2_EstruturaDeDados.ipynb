{
 "cells": [
  {
   "cell_type": "code",
   "execution_count": 1,
   "metadata": {},
   "outputs": [],
   "source": [
    "# Lista funcionam como vetores e matrizes, dinâmico e qualquer tipo de dados"
   ]
  },
  {
   "cell_type": "code",
   "execution_count": 30,
   "metadata": {},
   "outputs": [],
   "source": [
    "#1Elaborar um algoritmo que lê um conjunto de 30 valores e os coloca em 2 vetores conforme forem pares ou\n",
    "#ímpares. O tamanho do vetor é de 5 posições. Terminada a leitura escrever o conteúdo dos dois vetores. Cada\n",
    "#vetor pode ser preenchido tantas vezes quantas for necessário.\n",
    "\n",
    "vet1 = np.random.randint(1,100, (1,30)) "
   ]
  },
  {
   "cell_type": "code",
   "execution_count": 3,
   "metadata": {},
   "outputs": [
    {
     "name": "stdout",
     "output_type": "stream",
     "text": [
      "[[19  3  7 18  3  1  1  6  2 12]]\n",
      "[[ 5 19 13  8 19 10  8  6  5  5]]\n",
      "[[ 95  57  91 144  57  10   8  36  10  60]]\n"
     ]
    }
   ],
   "source": [
    "#2Escreva um algoritmo que leia dois vetores de 10 posições e faça a multiplicação dos elementos de mesmo\n",
    "#índice, colocando o resultado em um terceiro vetor. Mostre o vetor resultante.\n",
    "import random\n",
    "import numpy as np\n",
    "vet1 = np.random.randint(1,20, (1,10)) \n",
    "vet2 = np.random.randint(1,20, (1,10)) \n",
    "print(vet1)\n",
    "print(vet2)\n",
    "print(vet1 * vet2)"
   ]
  },
  {
   "cell_type": "code",
   "execution_count": 4,
   "metadata": {},
   "outputs": [
    {
     "name": "stdout",
     "output_type": "stream",
     "text": [
      "[[11 32 63 87  2 74  6 71 57  8 81 26 21 61 16 34 45 83 16 30]]\n",
      "A quantidade de pares é : 10\n"
     ]
    }
   ],
   "source": [
    "#3Escreva um algoritmo que leia e mostre um vetor de 20 elementos inteiros. a seguir, conte quantos valores\n",
    "#pares existem no vetor.\n",
    "\n",
    "vet1 = np.random.randint(1,100, (1,20)) \n",
    "print(vet1)\n",
    "print('A quantidade de pares é : {}'.format(np.count_nonzero(vet1 % 2 == 1))) \n"
   ]
  },
  {
   "cell_type": "code",
   "execution_count": 5,
   "metadata": {},
   "outputs": [
    {
     "data": {
      "text/plain": [
       "array([ 1,  5,  8, 10, 13, 25, 41, 45, 74, 95])"
      ]
     },
     "execution_count": 5,
     "metadata": {},
     "output_type": "execute_result"
    }
   ],
   "source": [
    "#4 Escreva um algoritmo que leia um vetor de 10 posições e mostre-o ordenado em ordem crescente utilizando o \n",
    "#método BubleSort. Escreva a quantidade de comparações que foram realizadas\n",
    "import numpy as np\n",
    "def bubble_sort(vetor):\n",
    "  n = len(vetor)\n",
    "\n",
    "  for i in range(n):\n",
    "    for j in range(0, n - i - 1):\n",
    "      if vetor[j] > vetor[j + 1]:\n",
    "        temp = vetor[j]\n",
    "        vetor[j] = vetor[j + 1]\n",
    "        vetor[j + 1] = temp\n",
    "  return vetor   \n",
    "\n",
    "bubble_sort(np.array([95,74,1,8,10,25,5,41,13,45]))"
   ]
  },
  {
   "cell_type": "code",
   "execution_count": 6,
   "metadata": {},
   "outputs": [
    {
     "data": {
      "text/plain": [
       "array([ 1,  2,  3,  4,  5,  6,  7,  8,  9, 10])"
      ]
     },
     "execution_count": 6,
     "metadata": {},
     "output_type": "execute_result"
    }
   ],
   "source": [
    "#5 Escreva um algoritmo que leia um vetor de 10 posições e mostre-o ordenado em ordem crescente utilizando o \n",
    "#método SelectionSort. Escreva a quantidade de comparações que foram realizadas.\n",
    "def selection_sort(vetor):\n",
    "  n = len(vetor)\n",
    "\n",
    "  for i in range(n):\n",
    "    id_minimo = i\n",
    "    for j in range(i + 1, n):\n",
    "      if vetor[id_minimo] > vetor[j]:\n",
    "        id_minimo = j\n",
    "    temp = vetor[i]\n",
    "    vetor[i] = vetor[id_minimo]\n",
    "    vetor[id_minimo] = temp\n",
    "  \n",
    "  return vetor\n",
    "\n",
    "selection_sort(np.array([10, 9, 8, 7, 6, 5, 4, 3, 2, 1]))"
   ]
  },
  {
   "cell_type": "code",
   "execution_count": 7,
   "metadata": {},
   "outputs": [],
   "source": [
    "#6Escreva um algoritmo que leia um vetor de 10 posições e mostre- o. Em seguida, troque o primeiro elemento \n",
    "#com o último, o segundo com o penúltimo, o terceiro com o antepenúltimo, e assim sucessivamente. Mostre o \n",
    "#novo vetor depois da troca."
   ]
  },
  {
   "cell_type": "code",
   "execution_count": 36,
   "metadata": {},
   "outputs": [
    {
     "data": {
      "text/plain": [
       "[-5, -1, -6, -2, -10, -7, -8]"
      ]
     },
     "execution_count": 36,
     "metadata": {},
     "output_type": "execute_result"
    }
   ],
   "source": [
    "#7Escreva um algoritmo que leia um vetor de 10 posições de números inteiros e mostre somente os positivos. \n",
    "vet1 = [1,-5,3,-1,-6,4,-2,-10,-7,-8]\n",
    "[ x for x in vet1 if x < 0]   #ListComprehention"
   ]
  },
  {
   "cell_type": "code",
   "execution_count": 32,
   "metadata": {},
   "outputs": [
    {
     "name": "stdout",
     "output_type": "stream",
     "text": [
      "[[74 42  1 36 14 31 40 78 84 41  9 85 32 39 59 69 16 97 77 10 58 69 21 85\n",
      "  28  2 10 13 92 18 77  8  1 69 92 24 78 91 37 24 48 58 32 70  3 84 84 33\n",
      "  64 68 97 91 82 93 41 68 10 50 80  4 67 70 98 20 19 31 90 67 50 20 39 73\n",
      "  99 95 72 97  9 60 23 71]]\n"
     ]
    },
    {
     "data": {
      "text/plain": [
       "1"
      ]
     },
     "execution_count": 32,
     "metadata": {},
     "output_type": "execute_result"
    }
   ],
   "source": [
    "#8Escreva um algoritmo que leia um vetor de 80 elementos inteiros. Encontre e mostre o menor elemento e sua \n",
    "#posição no vetor.\n",
    "vet1 = np.random.randint(1,100, (1,80)) \n",
    "print(vet1)\n",
    "np.min(vet1)\n",
    "\n"
   ]
  },
  {
   "cell_type": "code",
   "execution_count": 48,
   "metadata": {},
   "outputs": [],
   "source": [
    "#9Escrever um algoritmo que lê 2 vetores de tamanho 10 e os escreve. Crie, a seguir, um vetor de 20 posições \n",
    "#que contenha os elementos dos outros 2 vetores em ordem crescente. \n",
    "\n",
    "\n",
    "\n",
    "\n",
    "\n",
    "\n",
    "\n"
   ]
  },
  {
   "cell_type": "code",
   "execution_count": null,
   "metadata": {},
   "outputs": [],
   "source": []
  },
  {
   "cell_type": "code",
   "execution_count": 47,
   "metadata": {},
   "outputs": [
    {
     "data": {
      "text/plain": [
       "array([[95, 85, 17, 12,  2, 79, 60, 31,  5, 44],\n",
       "       [99, 36, 31, 17, 85, 75, 73,  8, 51, 10]])"
      ]
     },
     "execution_count": 47,
     "metadata": {},
     "output_type": "execute_result"
    }
   ],
   "source": [
    "vet1 = np.random.randint(1,100, (1,10)) ; vet1\n",
    "vet2 = np.random.randint(1,100, (1,10)) ;\n",
    "vet3 = np.concatenate((vet1, vet2)) ;vet3"
   ]
  },
  {
   "cell_type": "raw",
   "metadata": {},
   "source": [
    "10-Escrever um algoritmo que lê 2 vetores X(10) e Y(10) e os escreve. Crie, a seguir, um vetor Z que seja \n",
    "a) a união de X com Y; \n",
    "b) a diferença entre X e Y; \n",
    "c) a soma entre X e Y; \n",
    "d) o produto entre X e Y; \n",
    "e) a intersecção entre X e Y. \n",
    "Escreva o vetor Z a cada cálculo\n",
    "\n"
   ]
  },
  {
   "cell_type": "code",
   "execution_count": 25,
   "metadata": {},
   "outputs": [
    {
     "name": "stdout",
     "output_type": "stream",
     "text": [
      "[[18 24 24  3 22 20 15  7 24  9]]\n",
      "[[21 28 14  1  3 26 11 29  6 18]]\n",
      "[[39 52 38  4 25 46 26 36 30 27]]\n"
     ]
    }
   ],
   "source": [
    "#c Soma\n",
    "x = np.random.randint(1,30, (1,10)) \n",
    "y = np.random.randint(1,30, (1,10)) \n",
    "\n",
    "z = x + y\n",
    "print(x)\n",
    "print(y)\n",
    "print(z)"
   ]
  },
  {
   "cell_type": "code",
   "execution_count": 26,
   "metadata": {},
   "outputs": [
    {
     "name": "stdout",
     "output_type": "stream",
     "text": [
      "[[18 24 24  3 22 20 15  7 24  9]]\n",
      "[[21 28 14  1  3 26 11 29  6 18]]\n",
      "[[378 672 336   3  66 520 165 203 144 162]]\n"
     ]
    }
   ],
   "source": [
    "#d Produto\n",
    "z = x * y\n",
    "print(x)\n",
    "print(y)\n",
    "print(z)"
   ]
  },
  {
   "cell_type": "code",
   "execution_count": 28,
   "metadata": {},
   "outputs": [
    {
     "name": "stdout",
     "output_type": "stream",
     "text": [
      "[[18 24 24  3 22 20 15  7 24  9]]\n",
      "[[21 28 14  1  3 26 11 29  6 18]]\n",
      "[ 3 18]\n"
     ]
    }
   ],
   "source": [
    "#e Interseção\n",
    "z = np.intersect1d(x,y)\n",
    "print(x)\n",
    "print(y)\n",
    "print(z)"
   ]
  },
  {
   "cell_type": "code",
   "execution_count": 29,
   "metadata": {},
   "outputs": [
    {
     "name": "stdout",
     "output_type": "stream",
     "text": [
      "[[18 24 24  3 22 20 15  7 24  9]]\n",
      "[[21 28 14  1  3 26 11 29  6 18]]\n",
      "[ 1  3  6  7  9 11 14 15 18 20 21 22 24 26 28 29]\n"
     ]
    }
   ],
   "source": [
    "z = np.union1d(x, y)\n",
    "print(x)\n",
    "print(y)\n",
    "print(z)"
   ]
  },
  {
   "cell_type": "code",
   "execution_count": null,
   "metadata": {},
   "outputs": [],
   "source": [
    "#11Escrever um algoritmo que lê um vetor X(20) e o escreve. Escreva, a seguir, cada um dos valores distintos \n",
    "#que aparecem em X dizendo quantas vezes cada valor aparece em X. "
   ]
  },
  {
   "cell_type": "raw",
   "metadata": {},
   "source": [
    "# 12Faça um algoritmo que gere a seguinte matriz: \n",
    "1 1 1 1 1 1\n",
    "1 2 2 2 2 1\n",
    "1 2 3 3 2 1\n",
    "1 2 3 3 2 1\n",
    "1 2 2 2 2 1\n",
    "1 1 1 1 1 1"
   ]
  },
  {
   "cell_type": "code",
   "execution_count": 35,
   "metadata": {},
   "outputs": [
    {
     "data": {
      "text/plain": [
       "matrix([[1, 1, 1, 1, 1, 1],\n",
       "        [1, 2, 2, 2, 2, 1],\n",
       "        [1, 2, 3, 3, 2, 1],\n",
       "        [1, 2, 3, 3, 2, 1],\n",
       "        [1, 2, 2, 2, 2, 1],\n",
       "        [1, 1, 1, 1, 1, 1]])"
      ]
     },
     "execution_count": 35,
     "metadata": {},
     "output_type": "execute_result"
    }
   ],
   "source": [
    "m = np.matrix('1,1,1,1,1,1; 1,2,2,2,2,1 ; 1,2,3,3,2,1 ; 1,2,3,3,2,1 ; 1,2,2,2,2,1 ; 1,1,1,1,1,1')\n",
    "m\n"
   ]
  },
  {
   "cell_type": "code",
   "execution_count": null,
   "metadata": {},
   "outputs": [],
   "source": []
  }
 ],
 "metadata": {
  "kernelspec": {
   "display_name": "Python 3",
   "language": "python",
   "name": "python3"
  },
  "language_info": {
   "codemirror_mode": {
    "name": "ipython",
    "version": 3
   },
   "file_extension": ".py",
   "mimetype": "text/x-python",
   "name": "python",
   "nbconvert_exporter": "python",
   "pygments_lexer": "ipython3",
   "version": "3.8.3"
  }
 },
 "nbformat": 4,
 "nbformat_minor": 4
}
