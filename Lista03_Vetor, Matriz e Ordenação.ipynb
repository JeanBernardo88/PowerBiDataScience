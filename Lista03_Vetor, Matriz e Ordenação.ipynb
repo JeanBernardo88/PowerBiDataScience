{
 "cells": [
  {
   "cell_type": "markdown",
   "metadata": {},
   "source": [
    "## Lista de Exercícios 03_ Vetores, Matrizes e Ordenação"
   ]
  },
  {
   "cell_type": "raw",
   "metadata": {},
   "source": [
    "1- Elaborar um algoritmo que lê um conjunto de 30 valores e os coloca em 2 vetores conforme forem pares ou ímpares. O tamanho do vetor é de 5 posições. Terminada a leitura escrever o conteúdo dos dois vetores. Cada vetor pode ser preenchido tantas vezes quantas for necessário."
   ]
  },
  {
   "cell_type": "code",
   "execution_count": 18,
   "metadata": {},
   "outputs": [
    {
     "name": "stdout",
     "output_type": "stream",
     "text": [
      "A lista gerada é :  [1, 2, 3, 4, 5, 6, 7, 8, 9, 10, 11, 12, 13, 14, 15, 16, 17, 18, 19, 20, 21, 22, 23, 24, 25, 26, 27, 28, 29]\n",
      "Os valores pares da lista são:  [2, 4, 6, 8, 10, 12, 14, 16, 18, 20, 22, 24, 26, 28]\n",
      "Os valores ímpares das lista são:  [1, 3, 5, 7, 9, 11, 13, 15, 17, 19, 21, 23, 25, 27, 29]\n"
     ]
    }
   ],
   "source": [
    "v1 = list(range(1,30))\n",
    "par = []\n",
    "impar = []\n",
    "\n",
    "for i in v1:\n",
    "    if i % 2 == 0:\n",
    "        par.append(i)\n",
    "    elif i % 2 != 0 :\n",
    "        impar.append(i)\n",
    "\n",
    "print(\"A lista gerada é : \", v1)        \n",
    "print('Os valores pares da lista são: ',par)     \n",
    "print('Os valores ímpares das lista são: ',impar)\n",
    "        "
   ]
  },
  {
   "cell_type": "raw",
   "metadata": {},
   "source": [
    "2-Escreva um algoritmo que leia dois vetores de 10 posições e faça a multiplicação dos elementos de mesmo índice, colocando o resultado em um terceiro vetor. Mostre o vetor resultante."
   ]
  },
  {
   "cell_type": "code",
   "execution_count": 16,
   "metadata": {},
   "outputs": [
    {
     "name": "stdout",
     "output_type": "stream",
     "text": [
      "[5, 6, 7, 8, 9, 10, 11, 12, 13, 14]\n",
      "[18, 19, 20, 21, 22, 23, 24, 25, 26, 27]\n",
      "[90, 114, 140, 168, 198, 230, 264, 300, 338]\n"
     ]
    }
   ],
   "source": [
    "v1=list(range(5,15))\n",
    "v2=list(range(18,28))\n",
    "v3=[]\n",
    "print(v1)\n",
    "print(v2)\n",
    "\n",
    "for i in range(len(v1)-1):\n",
    " v3.append(v1[i]*v2[i])\n",
    "\n",
    "\n",
    "print('O lista 1 é :', v1)\n",
    "print('O lista 2 é :', v2)\n",
    "print(v3)\n"
   ]
  },
  {
   "cell_type": "raw",
   "metadata": {},
   "source": [
    "3-Escreva um algoritmo que leia e mostre um vetor de 20 elementos inteiros. a seguir, conte quantos valores pares existem no vetor."
   ]
  },
  {
   "cell_type": "code",
   "execution_count": 19,
   "metadata": {},
   "outputs": [
    {
     "name": "stdout",
     "output_type": "stream",
     "text": [
      "A lista é :  [1, 2, 3, 4, 5, 6, 7, 8, 9, 10, 11, 12, 13, 14, 15, 16, 17, 18, 19]\n",
      "A quantidade de Pares é : 9\n"
     ]
    }
   ],
   "source": [
    "\n",
    "x = list(range(1,20))\n",
    "freq = {} \n",
    "count = 0 \n",
    "for item in x: \n",
    " if (item in freq): \n",
    "     freq[item] += 1\n",
    "  else:\n",
    "    freq[item] = 1\n",
    "for key, value in freq.items(): \n",
    "    count+=value/2 \n",
    "print(\"A lista é : \",x)\n",
    "print(\"A quantidade de Pares é :\",int(count))\n"
   ]
  },
  {
   "cell_type": "raw",
   "metadata": {},
   "source": [
    "4 Escreva um algoritmo que leia um vetor de 10 posições e mostre-o ordenado em ordem crescente utilizando o  método BubleSort. Escreva a quantidade de comparações que foram realizadas"
   ]
  },
  {
   "cell_type": "code",
   "execution_count": 2,
   "metadata": {},
   "outputs": [
    {
     "data": {
      "text/plain": [
       "[array([ 1,  8, 24, 27, 27, 29, 64, 70, 84, 86])]"
      ]
     },
     "execution_count": 2,
     "metadata": {},
     "output_type": "execute_result"
    }
   ],
   "source": [
    "import numpy as np\n",
    "\n",
    "vet1 = np.random.randint(1,100, (1,10)) \n",
    "\n",
    "def bubble_sort(vetor):\n",
    "  n = len(vetor)\n",
    "  \n",
    "  for i in range(n):\n",
    "    for j in range(0, n - i - 1):\n",
    "      if vetor[j] > vetor[j + 1]:\n",
    "        temp = vetor[j]\n",
    "        vetor[j] = vetor[j + 1]\n",
    "        vetor[j + 1] = temp\n",
    "        \n",
    "        \n",
    "  return vetor   \n",
    "\n",
    "list(map(bubble_sort, vet1))\n"
   ]
  },
  {
   "cell_type": "raw",
   "metadata": {},
   "source": [
    "5-Escreva um algoritmo que leia um vetor de 10 posições e mostre-o ordenado em ordem crescente utilizando o método SelectionSort. Escreva a quantidade de comparações que foram realizadas."
   ]
  },
  {
   "cell_type": "code",
   "execution_count": 3,
   "metadata": {},
   "outputs": [
    {
     "name": "stdout",
     "output_type": "stream",
     "text": [
      "[[10 14 18  2 40 41 25 21 35 27]]\n"
     ]
    },
    {
     "data": {
      "text/plain": [
       "[array([ 2, 10, 14, 18, 21, 25, 27, 35, 40, 41])]"
      ]
     },
     "execution_count": 3,
     "metadata": {},
     "output_type": "execute_result"
    }
   ],
   "source": [
    "\n",
    "vet1 = np.random.randint(1,50, (1,10)) \n",
    "\n",
    "def selection_sort(vetor):\n",
    "  n = len(vetor)\n",
    "\n",
    "  for i in range(n):\n",
    "    id_minimo = i\n",
    "    for j in range(i + 1, n):\n",
    "      if vetor[id_minimo] > vetor[j]:\n",
    "        id_minimo = j\n",
    "    temp = vetor[i]\n",
    "    vetor[i] = vetor[id_minimo]\n",
    "    vetor[id_minimo] = temp\n",
    "    \n",
    "  return vetor\n",
    "\n",
    "print(vet1)\n",
    "list(map(selection_sort,vet1))\n",
    "\n"
   ]
  },
  {
   "cell_type": "raw",
   "metadata": {},
   "source": [
    "6-Escreva um algoritmo que leia um vetor de 10 posições e mostre- o. Em seguida, troque o primeiro elemento com o último, o segundo com o penúltimo, o terceiro com o antepenúltimo, e assim sucessivamente. Mostre o novo vetor depois da troca.\n"
   ]
  },
  {
   "cell_type": "code",
   "execution_count": null,
   "metadata": {},
   "outputs": [],
   "source": [
    "import random\n",
    "l = []\n",
    "for c in range(1,11):\n",
    "   l.append(random.randint(-5,15))\n",
    "print(l)\n",
    "\n",
    "for i in range(5): \n",
    "    l[i], l[9-i] = l[9-i],l[i] \n",
    "print(l)"
   ]
  },
  {
   "cell_type": "raw",
   "metadata": {},
   "source": [
    "7-Escreva um algoritmo que leia um vetor de 10 posições de números inteiros e mostre somente os positivos.\n"
   ]
  },
  {
   "cell_type": "code",
   "execution_count": 8,
   "metadata": {},
   "outputs": [
    {
     "name": "stdout",
     "output_type": "stream",
     "text": [
      "A lista gerada é :  [10, 11, 12, 13, 14, 15, 16, 17, 18, 19, 20]\n",
      "Os pares dentro das lista são: [10, 12, 14, 16, 18, 20]\n"
     ]
    }
   ],
   "source": [
    " \n",
    "lista = list(range(10,21))\n",
    "pares = []\n",
    "\n",
    "for i in lista:\n",
    "    if i % 2 == 0:\n",
    "        pares.append(i)\n",
    "        \n",
    "print(\"A lista gerada é : \",lista)\n",
    "print(\"Os pares dentro das lista são:\",pares)        "
   ]
  },
  {
   "cell_type": "raw",
   "metadata": {},
   "source": [
    "8-Escreva um algoritmo que leia um vetor de 80 elementos inteiros. Encontre e mostre o menor elemento e sua posição no vetor."
   ]
  },
  {
   "cell_type": "code",
   "execution_count": null,
   "metadata": {},
   "outputs": [],
   "source": [
    "import random\n",
    "lista = []\n",
    "for c in range(0,81):\n",
    "    lista.append(random.randint(-15,350))\n",
    "print(lista)\n",
    "\n",
    "c = 0\n",
    "\n",
    "for i in range(len(lista)-1):\n",
    "    menor = lista[i]\n",
    "    indice = i\n",
    "    if lista[i +1] < lista[i]:\n",
    "        menor, indice = lista[i+1], i+1\n",
    "print(menor, indice)"
   ]
  },
  {
   "cell_type": "raw",
   "metadata": {},
   "source": [
    "9-Escrever um algoritmo que lê 2 vetores de tamanho 10 e os escreve. Crie, a seguir, um vetor de 20 posições  que contenha os elementos dos outros 2 vetores em ordem crescente."
   ]
  },
  {
   "cell_type": "code",
   "execution_count": 16,
   "metadata": {},
   "outputs": [
    {
     "data": {
      "text/plain": [
       "[array([[10,  7, 26,  1, 24,  1, 12, 22,  5, 20]]),\n",
       " array([[ 7, 14, 17, 25, 23, 28, 24, 29, 25, 23]])]"
      ]
     },
     "execution_count": 16,
     "metadata": {},
     "output_type": "execute_result"
    }
   ],
   "source": [
    "import numpy as np\n",
    "vet1 = np.random.randint(1,30, (1,10)) \n",
    "vet2 = np.random.randint(1,30, (1,10))\n",
    "vet3 = vet1,vet2\n",
    "\n",
    "def selection_sort(vetor):\n",
    "  n = len(vetor)\n",
    "  \n",
    "  for i in range(n):\n",
    "    id_minimo = i\n",
    "    for j in range(i + 1, n):\n",
    "      if vetor[id_minimo] > vetor[j]:\n",
    "        id_minimo = j\n",
    "    temp = vetor[i]\n",
    "    vetor[i] = vetor[id_minimo]\n",
    "    vetor[id_minimo] = temp\n",
    "\n",
    "  return vetor\n",
    "\n",
    "list(map(selection_sort,vet3))\n",
    "\n",
    "\n"
   ]
  },
  {
   "cell_type": "raw",
   "metadata": {},
   "source": [
    "10-Escrever um algoritmo que lê 2 vetores X(10) e Y(10) e os escreve. Crie, a seguir, um vetor Z que seja \n",
    "a) a união de X com Y; \n",
    "b) a diferença entre X e Y; \n",
    "c) a soma entre X e Y; \n",
    "d) o produto entre X e Y; \n",
    "e) a intersecção entre X e Y. \n",
    "Escreva o vetor Z a cada cálculo"
   ]
  },
  {
   "cell_type": "code",
   "execution_count": 24,
   "metadata": {},
   "outputs": [
    {
     "name": "stdout",
     "output_type": "stream",
     "text": [
      "O vetor 1 é = [5, 6, 7, 8, 9, 10, 11, 12, 13, 14, 15, 16, 17, 18, 19, 20, 21, 22, 23, 24] \n",
      " e o vetor 2 é = [30, 31, 32, 33, 34, 35, 36, 37, 38, 39, 40, 41, 42, 43, 44]\n",
      "A União entre v1 e v2 é : [[5, 6, 7, 8, 9, 10, 11, 12, 13, 14, 15, 16, 17, 18, 19, 20, 21, 22, 23, 24, 30, 31, 32, 33, 34, 35, 36, 37, 38, 39, 40, 41, 42, 43, 44]] .\n"
     ]
    }
   ],
   "source": [
    "import random\n",
    "\n",
    "x = {-2,10,2,3,5,6,15,31,-8,1}\n",
    "y = {6,10,14,2,5,9,-7,-5,22,11}\n",
    "print(x)\n",
    "print(y)\n",
    "\n",
    "z = x.union(y)\n",
    "print('A união dos conjuntos é: {}'.format(z))\n",
    "z = x.difference(y) \n",
    "print('A diferença entre esses conjuntos é: {}'.format(z))\n",
    "\n",
    "z = list(x)+list(y)\n",
    "print('A soma entre esses conjuntos é: {}'.format(z))\n",
    "\n",
    "z = []\n",
    "for c in range(10):\n",
    "    z.append(list(x)[c] * list(y)[c])\n",
    "print('O produto entre as listas é {}'.format(z))\n",
    "\n",
    "z = x.intersection(y)\n",
    "print('A intersecção de X e Y é: {}'.format(z))"
   ]
  },
  {
   "cell_type": "raw",
   "metadata": {},
   "source": [
    "11-Escrever um algoritmo que lê um vetor X(20) e o escreve. Escreva, a seguir, cada um dos valores distintos \n",
    "que aparecem em X dizendo quantas vezes cada valor aparece em X\n"
   ]
  },
  {
   "cell_type": "code",
   "execution_count": null,
   "metadata": {},
   "outputs": [],
   "source": [
    " import random\n",
    "def posivet(x):\n",
    "    lista=[ [0 for i in range(2)] for j in range(len(x))]\n",
    "    item=[[],[]]\n",
    "    for i in range(len(x)):\n",
    "        aux=0\n",
    "        for j in range(len(x)):\n",
    "            if x[i]==x[j]:\n",
    "                aux+=1\n",
    "        item=(x[i],aux)\n",
    "        lista.append(item) \n",
    "    del(lista[0:(len(x))])\n",
    "    \n",
    " \n",
    "    i = 0\n",
    "    while i < len(lista):\n",
    "        j = i + 1\n",
    "        while j < len(lista):\n",
    "            if lista[j] == lista[i]:\n",
    "                del(lista[j])\n",
    "            else:\n",
    "                j = j + 1\n",
    "        i = i + 1\n",
    "    \n",
    "        \n",
    "    print(lista)\n",
    "    \n",
    "        \n",
    "               \n",
    " \n",
    "#programa principal\n",
    "q=int(input('Digite a quantidade de valores a serem gerados: '))\n",
    "a=int(input('Digite o menor valor do range de geração: '))\n",
    "b=int(input('Digite o maior valor do range da geração: '))\n",
    "lista=[]\n",
    "for i in range(q):\n",
    "    nr=random.randint(a,b)\n",
    "    lista.append(nr)\n",
    "print('Os numeros gerados são: {}'.format(lista))\n",
    "print(posivet(lista))"
   ]
  },
  {
   "cell_type": "raw",
   "metadata": {},
   "source": [
    "12-Faça um algoritmo que gere a seguinte matriz: \n",
    "1 1 1 1 1 1\n",
    "1 2 2 2 2 1\n",
    "1 2 3 3 2 1\n",
    "1 2 3 3 2 1\n",
    "1 2 2 2 2 1\n",
    "1 1 1 1 1 1"
   ]
  },
  {
   "cell_type": "code",
   "execution_count": 1,
   "metadata": {},
   "outputs": [
    {
     "name": "stdout",
     "output_type": "stream",
     "text": [
      "[1, 1, 1, 1, 1, 1]\n",
      "[1, 2, 2, 2, 2, 1]\n",
      "[1, 2, 3, 3, 2, 1]\n",
      "[1, 2, 3, 3, 2, 1]\n",
      "[1, 2, 2, 2, 2, 1]\n",
      "[1, 1, 1, 1, 1, 1]\n"
     ]
    }
   ],
   "source": [
    "matriz = []\n",
    "for c in range(0,6):\n",
    "    linha = []\n",
    "    for j in range(0,6):\n",
    "        linha.append(1) \n",
    "    matriz.append(linha)\n",
    "\n",
    "for i in range(1,5): \n",
    "    for j in range(1,5):\n",
    "        matriz[i][j]= 2\n",
    "   \n",
    "for i in range(2,4): \n",
    "    for j in range(2,4):\n",
    "        matriz[i][j] = 3\n",
    "        \n",
    "for c in range(len(matriz)):\n",
    "    print(matriz[c])"
   ]
  },
  {
   "cell_type": "code",
   "execution_count": null,
   "metadata": {},
   "outputs": [],
   "source": []
  }
 ],
 "metadata": {
  "kernelspec": {
   "display_name": "Python 3",
   "language": "python",
   "name": "python3"
  },
  "language_info": {
   "codemirror_mode": {
    "name": "ipython",
    "version": 3
   },
   "file_extension": ".py",
   "mimetype": "text/x-python",
   "name": "python",
   "nbconvert_exporter": "python",
   "pygments_lexer": "ipython3",
   "version": "3.7.3"
  }
 },
 "nbformat": 4,
 "nbformat_minor": 4
}
